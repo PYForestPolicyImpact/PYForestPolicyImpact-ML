{
 "cells": [
  {
   "cell_type": "code",
   "execution_count": 1,
   "metadata": {
    "tags": []
   },
   "outputs": [],
   "source": [
    "#1) Import all necessary packages\n",
    "import pandas as pd\n",
    "import numpy as np\n",
    "import matplotlib.pyplot as plt\n",
    "import datetime\n",
    "import ee\n",
    "import geemap\n",
    "import geopandas as gpd\n"
   ]
  },
  {
   "cell_type": "code",
   "execution_count": 2,
   "metadata": {
    "tags": []
   },
   "outputs": [],
   "source": [
    "import os\n",
    "import sys\n",
    "\n",
    "# Get the current working directory\n",
    "current_dir = os.path.abspath('')\n",
    "\n",
    "# Search for the 'constants.py' file starting from the current directory and moving up the hierarchy\n",
    "project_root = current_dir\n",
    "while not os.path.isfile(os.path.join(project_root, 'constants.py')):\n",
    "    project_root = os.path.dirname(project_root)\n",
    "\n",
    "# Add the project root to the Python path\n",
    "sys.path.append(project_root)\n",
    "\n",
    "\n"
   ]
  },
  {
   "cell_type": "code",
   "execution_count": 3,
   "metadata": {
    "tags": []
   },
   "outputs": [],
   "source": [
    "# Import SHAPEFILE_PATH from constants\n",
    "from constants import STUDY_BOUNDARY_PATH"
   ]
  },
  {
   "cell_type": "markdown",
   "metadata": {},
   "source": [
    "# Import CHIRPS Daily: Climate Hazards Group InfraRed Precipitation With Station Data (Version 2.0 Final) and Study Boundary\n",
    "\n",
    "https://developers.google.com/earth-engine/datasets/catalog/UCSB-CHG_CHIRPS_PENTAD\n",
    "\n",
    "Climate Hazards Group InfraRed Precipitation with Station data (CHIRPS) is a 30+ year quasi-global rainfall dataset. CHIRPS incorporates 0.05° resolution satellite imagery with in-situ station data to create gridded rainfall time series for trend analysis and seasonal drought monitoring.\n",
    "\n",
    "Funk, Chris, Pete Peterson, Martin Landsfeld, Diego Pedreros, James Verdin, Shraddhanand Shukla, Gregory Husak, James Rowland, Laura Harrison, Andrew Hoell & Joel Michaelsen. \"The climate hazards infrared precipitation with stations-a new environmental record for monitoring extremes\". Scientific Data 2, 150066. doi:10.1038/sdata.2015.66 2015."
   ]
  },
  {
   "cell_type": "code",
   "execution_count": null,
   "metadata": {
    "tags": []
   },
   "outputs": [],
   "source": [
    "#ee.Authenticate()\n",
    "ee.Initialize()"
   ]
  },
  {
   "cell_type": "code",
   "execution_count": 6,
   "metadata": {
    "tags": []
   },
   "outputs": [],
   "source": [
    "start_date = '2001-01-01'\n",
    "end_date = '2022-12-31'\n",
    "precipitation = ee.ImageCollection(\"UCSB-CHG/CHIRPS/DAILY\").filterDate(start_date, end_date)\n",
    "\n"
   ]
  },
  {
   "cell_type": "code",
   "execution_count": 7,
   "metadata": {},
   "outputs": [
    {
     "name": "stdout",
     "output_type": "stream",
     "text": [
      "First image date: 20010101\n",
      "Last image date: 20221230\n"
     ]
    }
   ],
   "source": [
    "# Sort the ImageCollection by date\n",
    "sorted_collection = precipitation.sort('system:time_start')\n",
    "\n",
    "# Get the first image\n",
    "first_image = sorted_collection.first()\n",
    "\n",
    "# Get the last image\n",
    "last_image = sorted_collection.sort('system:time_start', False).first()\n",
    "\n",
    "# Print the dates of the first and last images\n",
    "print('First image date:', first_image.get('system:index').getInfo())\n",
    "print('Last image date:', last_image.get('system:index').getInfo())\n"
   ]
  },
  {
   "cell_type": "code",
   "execution_count": 8,
   "metadata": {},
   "outputs": [],
   "source": [
    "study_boundary = gpd.read_file(STUDY_BOUNDARY_PATH)\n",
    "\n",
    "ee_boundary = geemap.geopandas_to_ee(study_boundary)\n",
    "\n",
    "# Extract the first feature from the FeatureCollection\n",
    "ee_boundary_feature = ee_boundary.first()\n",
    "\n",
    "# Get the geometry of the feature\n",
    "ee_boundary_geometry = ee_boundary_feature.geometry()\n",
    "\n",
    "# Get the coordinates of the geometry\n",
    "ee_boundary_coordinates = ee_boundary_geometry.coordinates().getInfo()"
   ]
  },
  {
   "cell_type": "code",
   "execution_count": 10,
   "metadata": {},
   "outputs": [],
   "source": [
    "# Function to calculate ten-year average precipitation\n",
    "def calculate_decadal_averages(start_year):\n",
    "    end_year = start_year + 9\n",
    "    start_date = ee.Date.fromYMD(start_year, 1, 1)\n",
    "    end_date = ee.Date.fromYMD(end_year, 12, 31)\n",
    "    decadal_precip = precipitation.filterDate(start_date, end_date).mean()\n",
    "    return decadal_precip\n",
    "\n"
   ]
  },
  {
   "cell_type": "code",
   "execution_count": 11,
   "metadata": {},
   "outputs": [],
   "source": [
    "# Iterate over each ten-year block and calculate averages\n",
    "for year in range(2001, 2013):  # 2013 is the last start year for a ten-year block ending in 2022\n",
    "    decadal_avg_precip = calculate_decadal_averages(year)\n",
    "    clipped_precipitation = decadal_avg_precip.clip(ee_boundary)\n",
    "    \n",
    "    # Adding a suffix to the file name to indicate the specific ten-year block\n",
    "    suffix = str(year) + \"_\" + str(year + 9)  # e.g., '2001_2010'\n",
    "    \n",
    "    export_params = {\n",
    "        'scale': 30,  # Resolution in meters\n",
    "        'region': ee_boundary_coordinates,  # Export only the region of interest\n",
    "        'crs': 'EPSG:4326',  # Coordinate reference system (optional)\n",
    "        'fileFormat': 'GeoTIFF',  # Export format (GeoTIFF or other supported formats)\n",
    "        'fileNamePrefix': 'average_annual_precipitation_' + suffix,  # Prefix for the exported file name with suffix\n",
    "    }\n",
    "\n",
    "    export_task = ee.batch.Export.image.toDrive(\n",
    "        image=clipped_precipitation,\n",
    "        description='average_annual_precipitation_' + suffix,  # Include the suffix in the description as well\n",
    "        folder='precipitation_data',  # Specify a folder in your Google Drive\n",
    "        maxPixels=1e10,\n",
    "        **export_params\n",
    "    )\n",
    "    # Start the export task\n",
    "    export_task.start()\n"
   ]
  },
  {
   "cell_type": "markdown",
   "metadata": {},
   "source": [
    "A new empty folder will appear in the google drive associated with Earth Engine account.\n",
    "The export process takes a considerable amount of time, progress can be monitored at\n",
    "https://code.earthengine.google.com/tasks"
   ]
  },
  {
   "cell_type": "markdown",
   "metadata": {},
   "source": [
    "# calculate_average_precipitation"
   ]
  },
  {
   "cell_type": "code",
   "execution_count": 9,
   "metadata": {},
   "outputs": [],
   "source": [
    "# Function to calculate average precipitation over the entire period\n",
    "def calculate_average_precipitation(start_date, end_date):\n",
    "    # Filter the ImageCollection for the specified date range\n",
    "    period_precip = precipitation.filterDate(start_date, end_date)\n",
    "    # Calculate the mean precipitation over the entire period\n",
    "    average_precip = period_precip.mean()\n",
    "    return average_precip\n"
   ]
  },
  {
   "cell_type": "code",
   "execution_count": 10,
   "metadata": {},
   "outputs": [],
   "source": [
    "\n",
    "# Calculate the average precipitation from 2001 to 2022\n",
    "average_precip_2001_2022 = calculate_average_precipitation(start_date, end_date)\n",
    "clipped_precipitation = average_precip_2001_2022.clip(ee_boundary)\n",
    "\n",
    "# Define the export parameters\n",
    "export_params = {\n",
    "    'scale': 30,  # Resolution in meters\n",
    "    'region': ee_boundary_coordinates,  # Export only the region of interest\n",
    "    'crs': 'EPSG:4326',  # Coordinate reference system (optional)\n",
    "    'fileFormat': 'GeoTIFF',  # Export format (GeoTIFF or other supported formats)\n",
    "    'fileNamePrefix': 'average_precipitation_2001_2022',  # Prefix for the exported file name\n",
    "}\n",
    "\n",
    "# Create an export task\n",
    "export_task = ee.batch.Export.image.toDrive(\n",
    "    image=clipped_precipitation,\n",
    "    description='average_precipitation_2001_2022',  # Description of the export task\n",
    "    folder='precipitation_data',  # Specify a folder in your Google Drive\n",
    "    maxPixels=1e10,\n",
    "    **export_params\n",
    ")\n",
    "\n",
    "# Start the export task\n",
    "export_task.start()\n"
   ]
  },
  {
   "cell_type": "markdown",
   "metadata": {},
   "source": [
    "A new empty folder will appear in the google drive associated with Earth Engine account.\n",
    "The export process takes a considerable amount of time, progress can be monitored at\n",
    "https://code.earthengine.google.com/tasks"
   ]
  }
 ],
 "metadata": {
  "kernelspec": {
   "display_name": "policy",
   "language": "python",
   "name": "policy"
  },
  "language_info": {
   "codemirror_mode": {
    "name": "ipython",
    "version": 3
   },
   "file_extension": ".py",
   "mimetype": "text/x-python",
   "name": "python",
   "nbconvert_exporter": "python",
   "pygments_lexer": "ipython3",
   "version": "3.11.5"
  },
  "vscode": {
   "interpreter": {
    "hash": "aca51edb778be56207d5a76d5369999259e96b3950a8b6f86c3be07548c77925"
   }
  }
 },
 "nbformat": 4,
 "nbformat_minor": 4
}
