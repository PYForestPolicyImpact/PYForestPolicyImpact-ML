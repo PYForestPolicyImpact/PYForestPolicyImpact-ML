{
 "cells": [
  {
   "cell_type": "code",
   "execution_count": 1,
   "metadata": {},
   "outputs": [],
   "source": [
    "import os\n",
    "import sys\n",
    "import ee\n",
    "import geemap\n",
    "import json\n",
    "from google.oauth2.service_account import Credentials\n",
    "import geopandas as gpd\n"
   ]
  },
  {
   "cell_type": "code",
   "execution_count": 2,
   "metadata": {},
   "outputs": [],
   "source": [
    "# Get the current working directory\n",
    "current_dir = os.path.abspath('')\n",
    "\n",
    "# Search for the 'constants.py' file starting from the current directory and moving up the hierarchy\n",
    "project_root = current_dir\n",
    "while not os.path.isfile(os.path.join(project_root, 'constants.py')):\n",
    "    project_root = os.path.dirname(project_root)\n",
    "\n",
    "# Add the project root to the Python path\n",
    "sys.path.append(project_root)"
   ]
  },
  {
   "cell_type": "code",
   "execution_count": 3,
   "metadata": {},
   "outputs": [],
   "source": [
    "# Import SHAPEFILE_PATH from constants\n",
    "from constants import STUDY_BOUNDARY_PATH"
   ]
  },
  {
   "cell_type": "code",
   "execution_count": 4,
   "metadata": {},
   "outputs": [
    {
     "data": {
      "text/plain": [
       "\"# Get the path to the service account JSON file from the environment variable\\nkey_content  = os.environ.get('EEPRIVATE_KEY')\\n\""
      ]
     },
     "execution_count": 4,
     "metadata": {},
     "output_type": "execute_result"
    }
   ],
   "source": [
    "'''# Get the path to the service account JSON file from the environment variable\n",
    "key_content  = os.environ.get('EEPRIVATE_KEY')\n",
    "'''"
   ]
  },
  {
   "cell_type": "code",
   "execution_count": 5,
   "metadata": {},
   "outputs": [
    {
     "data": {
      "text/html": [
       "<p>To authorize access needed by Earth Engine, open the following\n",
       "        URL in a web browser and follow the instructions:</p>\n",
       "        <p><a href=https://code.earthengine.google.com/client-auth?scopes=https%3A//www.googleapis.com/auth/earthengine%20https%3A//www.googleapis.com/auth/devstorage.full_control&request_id=5LZaIrOwjmhp_64p160TbQcXpt90LXL304RoO66Ks_A&tc=rmZPG1WMDkf-jrNZWk4smtqaciQ3cqsk01HIBFwuEs8&cc=E9yof8J7gcAOAU6eKoeESJ-ggyFIdkH83O2xioFJMoc>https://code.earthengine.google.com/client-auth?scopes=https%3A//www.googleapis.com/auth/earthengine%20https%3A//www.googleapis.com/auth/devstorage.full_control&request_id=5LZaIrOwjmhp_64p160TbQcXpt90LXL304RoO66Ks_A&tc=rmZPG1WMDkf-jrNZWk4smtqaciQ3cqsk01HIBFwuEs8&cc=E9yof8J7gcAOAU6eKoeESJ-ggyFIdkH83O2xioFJMoc</a></p>\n",
       "        <p>The authorization workflow will generate a code, which you should paste in the box below.</p>\n",
       "        "
      ],
      "text/plain": [
       "<IPython.core.display.HTML object>"
      ]
     },
     "metadata": {},
     "output_type": "display_data"
    },
    {
     "name": "stdout",
     "output_type": "stream",
     "text": [
      "\n",
      "Successfully saved authorization token.\n"
     ]
    }
   ],
   "source": [
    "\n",
    "'''# Parse the JSON content\n",
    "key_dict = json.loads(key_content)\n",
    "# Create credentials from the parsed JSON content\n",
    "SCOPES = [\n",
    "    'https://www.googleapis.com/auth/earthengine',\n",
    "    'https://www.googleapis.com/auth/cloud-platform'\n",
    "]\n",
    "credentials = Credentials.from_service_account_info(key_dict, scopes=SCOPES)'''\n",
    "\n",
    "#ee.Authenticate()\n",
    "ee.Initialize()"
   ]
  },
  {
   "cell_type": "code",
   "execution_count": 6,
   "metadata": {},
   "outputs": [],
   "source": [
    "imagery = ee.Image(\"projects/mapbiomas-chaco/public/collection4/mapbiomas_chaco_collection4_integration_v1\")\n"
   ]
  },
  {
   "cell_type": "code",
   "execution_count": 7,
   "metadata": {},
   "outputs": [
    {
     "data": {
      "text/html": [
       "<div><style>:root {\n",
       "  --font-color-primary: var(--jp-content-font-color0, rgba(0, 0, 0, 1));\n",
       "  --font-color-secondary: var(--jp-content-font-color2, rgba(0, 0, 0, 0.6));\n",
       "  --font-color-accent: rgba(123, 31, 162, 1);\n",
       "  --border-color: var(--jp-border-color2, #e0e0e0);\n",
       "  --background-color: var(--jp-layout-color0, white);\n",
       "  --background-color-row-even: var(--jp-layout-color1, white);\n",
       "  --background-color-row-odd: var(--jp-layout-color2, #eeeeee);\n",
       "}\n",
       "\n",
       "html[theme=\"dark\"],\n",
       "body[data-theme=\"dark\"],\n",
       "body.vscode-dark {\n",
       "  --font-color-primary: rgba(255, 255, 255, 1);\n",
       "  --font-color-secondary: rgba(255, 255, 255, 0.6);\n",
       "  --font-color-accent: rgb(173, 132, 190);\n",
       "  --border-color: #2e2e2e;\n",
       "  --background-color: #111111;\n",
       "  --background-color-row-even: #111111;\n",
       "  --background-color-row-odd: #313131;\n",
       "}\n",
       "\n",
       ".ee {\n",
       "  padding: 1em;\n",
       "  line-height: 1.5em;\n",
       "  min-width: 300px;\n",
       "  max-width: 1200px;\n",
       "  overflow-y: scroll;\n",
       "  max-height: 600px;\n",
       "  border: 1px solid var(--border-color);\n",
       "  font-family: monospace;\n",
       "}\n",
       "\n",
       ".ee li {\n",
       "  list-style-type: none;\n",
       "}\n",
       "\n",
       ".ee ul {\n",
       "  padding-left: 1.5em !important;\n",
       "  margin: 0;\n",
       "}\n",
       "\n",
       ".ee > ul {\n",
       "  padding-left: 0 !important;\n",
       "}\n",
       "\n",
       ".ee-open,\n",
       ".ee-shut {\n",
       "  color: var(--font-color-secondary);\n",
       "  cursor: pointer;\n",
       "  margin: 0;\n",
       "}\n",
       "\n",
       ".ee-open:hover,\n",
       ".ee-shut:hover {\n",
       "  color: var(--font-color-primary);\n",
       "}\n",
       "\n",
       ".ee-k {\n",
       "  color: var(--font-color-accent);\n",
       "  margin-right: 6px;\n",
       "}\n",
       "\n",
       ".ee-v {\n",
       "  color: var(--font-color-primary);\n",
       "}\n",
       "\n",
       ".ee-toggle {\n",
       "  display: none;\n",
       "}\n",
       "\n",
       ".ee-shut + ul {\n",
       "  display: none;\n",
       "}\n",
       "\n",
       ".ee-open + ul {\n",
       "  display: block;\n",
       "}\n",
       "\n",
       ".ee-shut::before {\n",
       "  display: inline-block;\n",
       "  content: \"▼\";\n",
       "  margin-right: 6px;\n",
       "  transform: rotate(-90deg);\n",
       "  transition: transform 0.2s;\n",
       "}\n",
       "\n",
       ".ee-open::before {\n",
       "  transform: rotate(0deg);\n",
       "  display: inline-block;\n",
       "  content: \"▼\";\n",
       "  margin-right: 6px;\n",
       "  transition: transform 0.2s;\n",
       "}\n",
       "</style><div class='ee'><ul><li><label class='ee-shut'>List (38 elements)<input type='checkbox' class='ee-toggle'></label><ul><li><span class='ee-k'>0:</span><span class='ee-v'>classification_1985</span></li><li><span class='ee-k'>1:</span><span class='ee-v'>classification_1986</span></li><li><span class='ee-k'>2:</span><span class='ee-v'>classification_1987</span></li><li><span class='ee-k'>3:</span><span class='ee-v'>classification_1988</span></li><li><span class='ee-k'>4:</span><span class='ee-v'>classification_1989</span></li><li><span class='ee-k'>5:</span><span class='ee-v'>classification_1990</span></li><li><span class='ee-k'>6:</span><span class='ee-v'>classification_1991</span></li><li><span class='ee-k'>7:</span><span class='ee-v'>classification_1992</span></li><li><span class='ee-k'>8:</span><span class='ee-v'>classification_1993</span></li><li><span class='ee-k'>9:</span><span class='ee-v'>classification_1994</span></li><li><span class='ee-k'>10:</span><span class='ee-v'>classification_1995</span></li><li><span class='ee-k'>11:</span><span class='ee-v'>classification_1996</span></li><li><span class='ee-k'>12:</span><span class='ee-v'>classification_1997</span></li><li><span class='ee-k'>13:</span><span class='ee-v'>classification_1998</span></li><li><span class='ee-k'>14:</span><span class='ee-v'>classification_1999</span></li><li><span class='ee-k'>15:</span><span class='ee-v'>classification_2000</span></li><li><span class='ee-k'>16:</span><span class='ee-v'>classification_2001</span></li><li><span class='ee-k'>17:</span><span class='ee-v'>classification_2002</span></li><li><span class='ee-k'>18:</span><span class='ee-v'>classification_2003</span></li><li><span class='ee-k'>19:</span><span class='ee-v'>classification_2004</span></li><li><span class='ee-k'>20:</span><span class='ee-v'>classification_2005</span></li><li><span class='ee-k'>21:</span><span class='ee-v'>classification_2006</span></li><li><span class='ee-k'>22:</span><span class='ee-v'>classification_2007</span></li><li><span class='ee-k'>23:</span><span class='ee-v'>classification_2008</span></li><li><span class='ee-k'>24:</span><span class='ee-v'>classification_2009</span></li><li><span class='ee-k'>25:</span><span class='ee-v'>classification_2010</span></li><li><span class='ee-k'>26:</span><span class='ee-v'>classification_2011</span></li><li><span class='ee-k'>27:</span><span class='ee-v'>classification_2012</span></li><li><span class='ee-k'>28:</span><span class='ee-v'>classification_2013</span></li><li><span class='ee-k'>29:</span><span class='ee-v'>classification_2014</span></li><li><span class='ee-k'>30:</span><span class='ee-v'>classification_2015</span></li><li><span class='ee-k'>31:</span><span class='ee-v'>classification_2016</span></li><li><span class='ee-k'>32:</span><span class='ee-v'>classification_2017</span></li><li><span class='ee-k'>33:</span><span class='ee-v'>classification_2018</span></li><li><span class='ee-k'>34:</span><span class='ee-v'>classification_2019</span></li><li><span class='ee-k'>35:</span><span class='ee-v'>classification_2020</span></li><li><span class='ee-k'>36:</span><span class='ee-v'>classification_2021</span></li><li><span class='ee-k'>37:</span><span class='ee-v'>classification_2022</span></li></ul></li></ul></div><script>function toggleHeader() {\n",
       "    const parent = this.parentElement;\n",
       "    parent.className = parent.className === \"ee-open\" ? \"ee-shut\" : \"ee-open\";\n",
       "}\n",
       "\n",
       "for (let c of document.getElementsByClassName(\"ee-toggle\")) {\n",
       "    c.onclick = toggleHeader;\n",
       "}</script></div>"
      ],
      "text/plain": [
       "<ee.ee_list.List at 0x22523512890>"
      ]
     },
     "execution_count": 7,
     "metadata": {},
     "output_type": "execute_result"
    }
   ],
   "source": [
    "imagery.bandNames()"
   ]
  },
  {
   "cell_type": "code",
   "execution_count": 58,
   "metadata": {},
   "outputs": [
    {
     "data": {
      "application/vnd.jupyter.widget-view+json": {
       "model_id": "bd5c5b9bd8624d05bc9e3738ea134545",
       "version_major": 2,
       "version_minor": 0
      },
      "text/plain": [
       "Map(center=[20, 0], controls=(WidgetControl(options=['position', 'transparent_bg'], widget=HBox(children=(Togg…"
      ]
     },
     "execution_count": 58,
     "metadata": {},
     "output_type": "execute_result"
    }
   ],
   "source": [
    "chaco_2013 = imagery.select('classification_2013')\n",
    "Map = geemap.Map()\n",
    "Map.addLayer(chaco_2013,{}, 'Mapbiomas')\n",
    "Map.center_object(chaco_2013)\n",
    "Map"
   ]
  },
  {
   "cell_type": "code",
   "execution_count": 8,
   "metadata": {},
   "outputs": [],
   "source": [
    "shapefile_path = STUDY_BOUNDARY_PATH\n",
    "study_boundary = gpd.read_file(shapefile_path)"
   ]
  },
  {
   "cell_type": "code",
   "execution_count": 10,
   "metadata": {},
   "outputs": [],
   "source": [
    "ee_boundary = geemap.geopandas_to_ee(study_boundary)\n",
    "\n"
   ]
  },
  {
   "cell_type": "code",
   "execution_count": 59,
   "metadata": {},
   "outputs": [],
   "source": [
    "\n",
    "clipped_dataset = chaco_2013.clip(ee_boundary)\n"
   ]
  },
  {
   "cell_type": "code",
   "execution_count": 60,
   "metadata": {},
   "outputs": [
    {
     "data": {
      "application/vnd.jupyter.widget-view+json": {
       "model_id": "aa4f4806e93f41e9b718792aa9b995cf",
       "version_major": 2,
       "version_minor": 0
      },
      "text/plain": [
       "Map(center=[-21.999008038350066, -59.79579144156555], controls=(WidgetControl(options=['position', 'transparen…"
      ]
     },
     "execution_count": 60,
     "metadata": {},
     "output_type": "execute_result"
    }
   ],
   "source": [
    "Map2 = geemap.Map()\n",
    "\n",
    "centroid = ee_boundary.geometry().centroid().getInfo()['coordinates']\n",
    "Map2.setCenter(centroid[0], centroid[1], 7)\n",
    "\n",
    "Map2.addLayer(clipped_dataset, {}, 'MB Dataset Clipped')\n",
    "Map2"
   ]
  },
  {
   "cell_type": "code",
   "execution_count": 30,
   "metadata": {},
   "outputs": [
    {
     "data": {
      "text/html": [
       "<div><style>:root {\n",
       "  --font-color-primary: var(--jp-content-font-color0, rgba(0, 0, 0, 1));\n",
       "  --font-color-secondary: var(--jp-content-font-color2, rgba(0, 0, 0, 0.6));\n",
       "  --font-color-accent: rgba(123, 31, 162, 1);\n",
       "  --border-color: var(--jp-border-color2, #e0e0e0);\n",
       "  --background-color: var(--jp-layout-color0, white);\n",
       "  --background-color-row-even: var(--jp-layout-color1, white);\n",
       "  --background-color-row-odd: var(--jp-layout-color2, #eeeeee);\n",
       "}\n",
       "\n",
       "html[theme=\"dark\"],\n",
       "body[data-theme=\"dark\"],\n",
       "body.vscode-dark {\n",
       "  --font-color-primary: rgba(255, 255, 255, 1);\n",
       "  --font-color-secondary: rgba(255, 255, 255, 0.6);\n",
       "  --font-color-accent: rgb(173, 132, 190);\n",
       "  --border-color: #2e2e2e;\n",
       "  --background-color: #111111;\n",
       "  --background-color-row-even: #111111;\n",
       "  --background-color-row-odd: #313131;\n",
       "}\n",
       "\n",
       ".ee {\n",
       "  padding: 1em;\n",
       "  line-height: 1.5em;\n",
       "  min-width: 300px;\n",
       "  max-width: 1200px;\n",
       "  overflow-y: scroll;\n",
       "  max-height: 600px;\n",
       "  border: 1px solid var(--border-color);\n",
       "  font-family: monospace;\n",
       "}\n",
       "\n",
       ".ee li {\n",
       "  list-style-type: none;\n",
       "}\n",
       "\n",
       ".ee ul {\n",
       "  padding-left: 1.5em !important;\n",
       "  margin: 0;\n",
       "}\n",
       "\n",
       ".ee > ul {\n",
       "  padding-left: 0 !important;\n",
       "}\n",
       "\n",
       ".ee-open,\n",
       ".ee-shut {\n",
       "  color: var(--font-color-secondary);\n",
       "  cursor: pointer;\n",
       "  margin: 0;\n",
       "}\n",
       "\n",
       ".ee-open:hover,\n",
       ".ee-shut:hover {\n",
       "  color: var(--font-color-primary);\n",
       "}\n",
       "\n",
       ".ee-k {\n",
       "  color: var(--font-color-accent);\n",
       "  margin-right: 6px;\n",
       "}\n",
       "\n",
       ".ee-v {\n",
       "  color: var(--font-color-primary);\n",
       "}\n",
       "\n",
       ".ee-toggle {\n",
       "  display: none;\n",
       "}\n",
       "\n",
       ".ee-shut + ul {\n",
       "  display: none;\n",
       "}\n",
       "\n",
       ".ee-open + ul {\n",
       "  display: block;\n",
       "}\n",
       "\n",
       ".ee-shut::before {\n",
       "  display: inline-block;\n",
       "  content: \"▼\";\n",
       "  margin-right: 6px;\n",
       "  transform: rotate(-90deg);\n",
       "  transition: transform 0.2s;\n",
       "}\n",
       "\n",
       ".ee-open::before {\n",
       "  transform: rotate(0deg);\n",
       "  display: inline-block;\n",
       "  content: \"▼\";\n",
       "  margin-right: 6px;\n",
       "  transition: transform 0.2s;\n",
       "}\n",
       "</style><div class='ee'><ul><li><label class='ee-shut'>Image projects/mapbiomas-chaco/public/collection4/mapbiomas_chaco_collection4_integration_v1 (1 band)<input type='checkbox' class='ee-toggle'></label><ul><li><span class='ee-k'>type:</span><span class='ee-v'>Image</span></li><li><span class='ee-k'>id:</span><span class='ee-v'>projects/mapbiomas-chaco/public/collection4/mapbiomas_chaco_collection4_integration_v1</span></li><li><span class='ee-k'>version:</span><span class='ee-v'>1688441238120966</span></li><li><label class='ee-shut'>bands: List (1 element)<input type='checkbox' class='ee-toggle'></label><ul><li><label class='ee-shut'>0: \"classification_2019\", unsigned int8, EPSG:4326, 69141x78483 px<input type='checkbox' class='ee-toggle'></label><ul><li><span class='ee-k'>id:</span><span class='ee-v'>classification_2019</span></li><li><span class='ee-k'>crs:</span><span class='ee-v'>EPSG:4326</span></li><li><label class='ee-shut'>crs_transform: List (6 elements)<input type='checkbox' class='ee-toggle'></label><ul><li><span class='ee-k'>0:</span><span class='ee-v'>0.0002694945852358564</span></li><li><span class='ee-k'>1:</span><span class='ee-v'>0</span></li><li><span class='ee-k'>2:</span><span class='ee-v'>-71.5734499252797</span></li><li><span class='ee-k'>3:</span><span class='ee-v'>0</span></li><li><span class='ee-k'>4:</span><span class='ee-v'>-0.0002694945852358564</span></li><li><span class='ee-k'>5:</span><span class='ee-v'>-14.549743162298656</span></li></ul></li><li><label class='ee-shut'>data_type: unsigned int8<input type='checkbox' class='ee-toggle'></label><ul><li><span class='ee-k'>type:</span><span class='ee-v'>PixelType</span></li><li><span class='ee-k'>max:</span><span class='ee-v'>255</span></li><li><span class='ee-k'>min:</span><span class='ee-v'>0</span></li><li><span class='ee-k'>precision:</span><span class='ee-v'>int</span></li></ul></li><li><label class='ee-shut'>dimensions: [69141, 78483]<input type='checkbox' class='ee-toggle'></label><ul><li><span class='ee-k'>0:</span><span class='ee-v'>69141</span></li><li><span class='ee-k'>1:</span><span class='ee-v'>78483</span></li></ul></li></ul></li></ul></li><li><label class='ee-shut'>properties: Spacial filter<input type='checkbox' class='ee-toggle'></label><ul><li><span class='ee-k'>type:</span><span class='ee-v'>Spacial filter</span></li><li><span class='ee-k'>version:</span><span class='ee-v'>1</span></li><li><span class='ee-k'>bioma:</span><span class='ee-v'>CHACO</span></li><li><span class='ee-k'>biome:</span><span class='ee-v'>chaco</span></li><li><span class='ee-k'>project:</span><span class='ee-v'>MapBiomas Chaco</span></li><li><span class='ee-k'>system:asset_size:</span><span class='ee-v'>6914662148</span></li><li><span class='ee-k'>versionIn:</span><span class='ee-v'>3_integra_cult_85-22</span></li><li><span class='ee-k'>yearEnd:</span><span class='ee-v'>2022</span></li><li><span class='ee-k'>yearStart:</span><span class='ee-v'>1985</span></li><li><span class='ee-k'>years:</span><span class='ee-v'>1985-2022</span></li></ul></li></ul></li></ul></div><script>function toggleHeader() {\n",
       "    const parent = this.parentElement;\n",
       "    parent.className = parent.className === \"ee-open\" ? \"ee-shut\" : \"ee-open\";\n",
       "}\n",
       "\n",
       "for (let c of document.getElementsByClassName(\"ee-toggle\")) {\n",
       "    c.onclick = toggleHeader;\n",
       "}</script></div>"
      ],
      "text/plain": [
       "<ee.image.Image at 0x2252adb8850>"
      ]
     },
     "execution_count": 30,
     "metadata": {},
     "output_type": "execute_result"
    }
   ],
   "source": [
    "clipped_dataset"
   ]
  },
  {
   "cell_type": "code",
   "execution_count": 13,
   "metadata": {},
   "outputs": [],
   "source": [
    "# Extract the first feature from the FeatureCollection\n",
    "ee_boundary_feature = ee_boundary.first()\n",
    "\n",
    "# Get the geometry of the feature\n",
    "ee_boundary_geometry = ee_boundary_feature.geometry()\n",
    "\n",
    "# Get the coordinates of the geometry\n",
    "ee_boundary_coordinates = ee_boundary_geometry.coordinates().getInfo()"
   ]
  },
  {
   "cell_type": "code",
   "execution_count": 61,
   "metadata": {},
   "outputs": [],
   "source": [
    "export_params = {\n",
    "    'scale': 30, # Resolution in meters\n",
    "    'region': ee_boundary_coordinates, # Export only the region of interest\n",
    "    'crs': 'EPSG:4326', # Coordinate reference system (optional)\n",
    "    'fileFormat': 'GeoTIFF', # Export format (GeoTIFF or other supported formats)\n",
    "    'fileNamePrefix': 'clipped_dataset13', # Prefix for the exported file name\n",
    "}\n",
    "# Get the geometry and scale (resolution) of the clipped raster\n",
    "geometry = ee_boundary.geometry()\n",
    "scale = export_params['scale']\n",
    "\n",
    "# Compute the pixel dimensions of the exported raster\n",
    "dimensions = ee.Image.pixelLonLat().reproject(geometry.projection().atScale(scale)).reduceRegion(\n",
    "    reducer=ee.Reducer.minMax(),\n",
    "    geometry=geometry,\n",
    "    scale=scale,\n",
    "    maxPixels=1e10\n",
    ").getInfo()\n",
    "\n",
    "pixel_width = dimensions['longitude_max'] - dimensions['longitude_min']\n",
    "pixel_height = dimensions['latitude_max'] - dimensions['latitude_min']\n"
   ]
  },
  {
   "cell_type": "code",
   "execution_count": 62,
   "metadata": {},
   "outputs": [],
   "source": [
    "# Your existing export task code\n",
    "export_task = ee.batch.Export.image.toDrive(\n",
    "    image=clipped_dataset.select('classification_2013'),\n",
    "    description='classification_2013',\n",
    "    folder='mb_data', # specify a folder in your Google Drive\n",
    "    maxPixels=1e10,\n",
    "    **export_params\n",
    ")\n",
    "\n",
    "export_task.start()"
   ]
  },
  {
   "cell_type": "markdown",
   "metadata": {},
   "source": [
    " https://code.earthengine.google.com/tasks"
   ]
  },
  {
   "cell_type": "code",
   "execution_count": 38,
   "metadata": {},
   "outputs": [
    {
     "name": "stdout",
     "output_type": "stream",
     "text": [
      "{'state': 'COMPLETED', 'description': 'classification_2022', 'creation_timestamp_ms': 1694661857778, 'update_timestamp_ms': 1694662357885, 'start_timestamp_ms': 1694661873536, 'task_type': 'EXPORT_IMAGE', 'destination_uris': ['https://drive.google.com/#folders/1W3tqm-V-aPZIkhUchu9x_uEH9znW0lOO'], 'attempt': 1, 'batch_eecu_usage_seconds': 3112.013427734375, 'id': 'I76PYE3NHIKHCHQ3U632YDYZ', 'name': 'projects/earthengine-legacy/operations/I76PYE3NHIKHCHQ3U632YDYZ'}\n"
     ]
    }
   ],
   "source": [
    "print(export_task.status())\n"
   ]
  }
 ],
 "metadata": {
  "kernelspec": {
   "display_name": "policy",
   "language": "python",
   "name": "policy"
  },
  "language_info": {
   "codemirror_mode": {
    "name": "ipython",
    "version": 3
   },
   "file_extension": ".py",
   "mimetype": "text/x-python",
   "name": "python",
   "nbconvert_exporter": "python",
   "pygments_lexer": "ipython3",
   "version": "3.11.5"
  },
  "orig_nbformat": 4
 },
 "nbformat": 4,
 "nbformat_minor": 2
}
