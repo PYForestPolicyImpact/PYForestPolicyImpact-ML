{
 "cells": [
  {
   "cell_type": "markdown",
   "metadata": {},
   "source": [
    "# Import Libraries"
   ]
  },
  {
   "cell_type": "code",
   "execution_count": 1,
   "metadata": {},
   "outputs": [],
   "source": [
    "import os\n",
    "import sys\n",
    "import rasterio\n",
    "import numpy as np\n",
    "import pandas as pd\n",
    "import matplotlib.pyplot as plt\n",
    "import shutil\n",
    "from pathlib import Path\n",
    "from rasterio.mask import mask\n",
    "from rasterio.enums import Resampling\n",
    "from rasterio.warp import reproject, Resampling\n",
    "\n"
   ]
  },
  {
   "cell_type": "markdown",
   "metadata": {},
   "source": [
    "# Import Constants"
   ]
  },
  {
   "cell_type": "code",
   "execution_count": 2,
   "metadata": {},
   "outputs": [],
   "source": [
    "# Get the current working directory\n",
    "current_dir = os.path.abspath('')\n",
    "\n",
    "# Search for the 'constants.py' file starting from the current directory and moving up the hierarchy\n",
    "project_root = current_dir\n",
    "while not os.path.isfile(os.path.join(project_root, 'constants.py')):\n",
    "    project_root = os.path.dirname(project_root)\n",
    "\n",
    "# Add the project root to the Python path\n",
    "sys.path.append(project_root)\n"
   ]
  },
  {
   "cell_type": "code",
   "execution_count": 3,
   "metadata": {},
   "outputs": [],
   "source": [
    "from constants import TREECOVER_10_AND_ABOVE, MODIFIED_RASTER, GRUPO_RASTER, DATA_PATH\n"
   ]
  },
  {
   "cell_type": "code",
   "execution_count": 4,
   "metadata": {},
   "outputs": [],
   "source": [
    "# Constants\n",
    "# update the first rasters_to_use_as_mask with the folder with the raster you want to use as a mask\n",
    "raster_to_use_as_mask =  rasterio.open(TREECOVER_10_AND_ABOVE)\n",
    "# new output directory\n",
    "output_dir = os.path.join(DATA_PATH, 'ml_data','tree_masked_rasters')\n",
    "os.makedirs(output_dir, exist_ok=True)"
   ]
  },
  {
   "cell_type": "code",
   "execution_count": 8,
   "metadata": {},
   "outputs": [],
   "source": [
    "def treecover_mask(input_mask_ds, input_raster, output_raster_path):\n",
    "    # Read the data from the mask raster\n",
    "    mask = input_mask_ds.read(1)\n",
    "\n",
    "    # Open the second raster\n",
    "    with rasterio.open(input_raster) as second_ds:\n",
    "        profile = second_ds.profile\n",
    "        second_raster = second_ds.read(1)\n",
    "\n",
    "    # Create a mask where forest is 0 (nonforested)\n",
    "    mask = mask == 0\n",
    "\n",
    "    # Apply the mask to the second raster, setting those values to -1\n",
    "    second_raster[mask] = -1\n",
    "\n",
    "    # Update the profile for the output raster\n",
    "    profile.update(\n",
    "        dtype=rasterio.float32,\n",
    "        nodata=-1\n",
    "    )\n",
    "\n",
    "    # Save the result to a new file\n",
    "    with rasterio.open(output_raster_path, 'w', **profile) as dst:\n",
    "        dst.write(second_raster.astype(rasterio.float32), 1)"
   ]
  },
  {
   "cell_type": "markdown",
   "metadata": {},
   "source": [
    "# Process Files"
   ]
  },
  {
   "cell_type": "markdown",
   "metadata": {},
   "source": [
    "## Intital Stack"
   ]
  },
  {
   "cell_type": "code",
   "execution_count": 9,
   "metadata": {},
   "outputs": [
    {
     "name": "stderr",
     "output_type": "stream",
     "text": [
      "C:\\Users\\bsf31\\AppData\\Local\\Temp\\ipykernel_23064\\1295753693.py:17: DeprecationWarning: NumPy will stop allowing conversion of out-of-bound Python integers to integer arrays.  The conversion of -1 to uint16 will fail in the future.\n",
      "For the old behavior, usually:\n",
      "    np.array(value).astype(dtype)\n",
      "will give the desired result (the cast overflows).\n",
      "  second_raster[mask] = -1\n"
     ]
    }
   ],
   "source": [
    "# Mask land use plan\n",
    "input_lup = GRUPO_RASTER\n",
    "lup_output_raster = os.path.join(output_dir, 'lup_10_treemask.tif')\n",
    "treecover_mask(raster_to_use_as_mask, input_lup, lup_output_raster)"
   ]
  },
  {
   "cell_type": "code",
   "execution_count": 13,
   "metadata": {},
   "outputs": [],
   "source": [
    "# Mask distance to river raster\n",
    "input_river = os.path.join(MASKED_RASTERS_DIR[0], 'river_masked.tif')\n",
    "river_output_raster = os.path.join(output_folder, 'river_treemask.tif')\n",
    "treecover_mask(raster_to_use_as_mask, input_river, river_output_raster)"
   ]
  },
  {
   "cell_type": "code",
   "execution_count": 14,
   "metadata": {},
   "outputs": [],
   "source": [
    "# Mask distance to road raster\n",
    "input_road = os.path.join(MASKED_RASTERS_DIR[0], 'road_masked.tif')\n",
    "road_output_raster = os.path.join(output_folder, 'road_treemask.tif')\n",
    "treecover_mask(raster_to_use_as_mask, input_road, road_output_raster)"
   ]
  },
  {
   "cell_type": "code",
   "execution_count": 15,
   "metadata": {},
   "outputs": [],
   "source": [
    "# Mask soil \n",
    "input_soil = os.path.join(MASKED_RASTERS_DIR[0], 'soil_masked.tif')\n",
    "soil_output_raster = os.path.join(output_folder, 'soil_treemask.tif')\n",
    "treecover_mask(raster_to_use_as_mask, input_soil, soil_output_raster)"
   ]
  },
  {
   "cell_type": "code",
   "execution_count": null,
   "metadata": {},
   "outputs": [],
   "source": [
    "# Mask precipitation \n",
    "input_precipitation = os.path.join(MASKED_RASTERS_DIR[0], 'precipitation_masked.tif')\n",
    "precipitation_output_raster = os.path.join(output_folder, 'precipitation_treemask.tif')\n",
    "treecover_mask(raster_to_use_as_mask, input_precipitation, precipitation_output_raster)"
   ]
  },
  {
   "cell_type": "code",
   "execution_count": 6,
   "metadata": {},
   "outputs": [],
   "source": [
    "# Mask ports\n",
    "input_ports = os.path.join(MASKED_RASTERS_DIR[0], 'ports_masked.tif')\n",
    "ports_output_raster = os.path.join(output_folder, 'ports_treemask.tif')\n",
    "treecover_mask(raster_to_use_as_mask, input_ports, ports_output_raster)"
   ]
  },
  {
   "cell_type": "code",
   "execution_count": 7,
   "metadata": {},
   "outputs": [],
   "source": [
    "# Mask cities\n",
    "input_cities = os.path.join(MASKED_RASTERS_DIR[0], 'cities_masked.tif')\n",
    "cities_output_raster = os.path.join(output_folder, 'cities_treemask.tif')\n",
    "treecover_mask(raster_to_use_as_mask, input_cities, cities_output_raster)"
   ]
  },
  {
   "cell_type": "code",
   "execution_count": null,
   "metadata": {},
   "outputs": [],
   "source": [
    "# Crop TREECOVER_10_AND_ABOVE to GRUPO_RASTER extent\n",
    "with rasterio.open(TREECOVER_10_AND_ABOVE) as src:\n",
    "    with rasterio.open(GRUPO_RASTER) as mask_src:\n",
    "        # Create a mask for the entire extent of GRUPO_RASTER\n",
    "        mask = mask_src.dataset_mask()\n",
    "\n",
    "        # Crop using the mask\n",
    "        out_image, out_transform = rasterio.mask.mask(src, [mask], crop=True)\n",
    "        out_meta = src.meta.copy()\n",
    "\n",
    "# Save the cropped raster as a new file\n",
    "cropped_raster_path = os.path.join(output_dir, 'cropped_treecover.tif')\n",
    "out_meta.update({\n",
    "    \"height\": out_image.shape[1],\n",
    "    \"width\": out_image.shape[2],\n",
    "    \"transform\": out_transform\n",
    "})\n",
    "with rasterio.open(cropped_raster_path, 'w', **out_meta) as dst:\n",
    "    dst.write(out_image, 1)  # Specify the band index when writing the image\n"
   ]
  }
 ],
 "metadata": {
  "kernelspec": {
   "display_name": "Python 3.11.3 ('pyforest')",
   "language": "python",
   "name": "python3"
  },
  "language_info": {
   "codemirror_mode": {
    "name": "ipython",
    "version": 3
   },
   "file_extension": ".py",
   "mimetype": "text/x-python",
   "name": "python",
   "nbconvert_exporter": "python",
   "pygments_lexer": "ipython3",
   "version": "3.11.5"
  },
  "orig_nbformat": 4,
  "vscode": {
   "interpreter": {
    "hash": "aca51edb778be56207d5a76d5369999259e96b3950a8b6f86c3be07548c77925"
   }
  }
 },
 "nbformat": 4,
 "nbformat_minor": 2
}
