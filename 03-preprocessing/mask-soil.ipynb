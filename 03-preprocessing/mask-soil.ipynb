{
 "cells": [
  {
   "cell_type": "code",
   "execution_count": 1,
   "metadata": {},
   "outputs": [],
   "source": [
    "import os\n",
    "import sys\n",
    "import rasterio\n",
    "import numpy as np\n",
    "import pandas as pd\n",
    "import matplotlib.pyplot as plt\n",
    "import shutil\n",
    "from pathlib import Path\n",
    "import geopandas as gpd\n",
    "from rasterio.warp import reproject, Resampling\n",
    "\n",
    "import rasterio.mask\n",
    "from rasterio.mask import mask"
   ]
  },
  {
   "cell_type": "code",
   "execution_count": 2,
   "metadata": {},
   "outputs": [],
   "source": [
    "# Get the current working directory\n",
    "current_dir = os.path.abspath('')\n",
    "\n",
    "# Search for the 'constants.py' file starting from the current directory and moving up the hierarchy\n",
    "project_root = current_dir\n",
    "while not os.path.isfile(os.path.join(project_root, 'constants.py')):\n",
    "    project_root = os.path.dirname(project_root)\n",
    "\n",
    "# Add the project root to the Python path\n",
    "sys.path.append(project_root)\n"
   ]
  },
  {
   "cell_type": "code",
   "execution_count": 3,
   "metadata": {},
   "outputs": [],
   "source": [
    "from constants import MODIFIED_RASTER, GRUPO_RASTER, DATA_PATH, CROPPED_HANSEN_TEN_MASK, HANSEN_TREECOVER_FILEPATH, SOIL, DISSOLVED_CLEAN_YEAR, TREECOVER_10_AND_ABOVE, SOIL\n"
   ]
  },
  {
   "cell_type": "code",
   "execution_count": 4,
   "metadata": {},
   "outputs": [],
   "source": [
    "# Where files will save, can add subfolders if desired\n",
    "output_dir = os.path.join(DATA_PATH, 'ml_data')\n",
    "os.makedirs(output_dir, exist_ok=True)"
   ]
  },
  {
   "cell_type": "code",
   "execution_count": 14,
   "metadata": {},
   "outputs": [],
   "source": [
    "cropped_resampled_soil = r'C:\\Users\\bsf31\\Documents\\post-meds\\data\\policy-data\\processed_rasters\\cropped_resampled_soil.tif'"
   ]
  },
  {
   "cell_type": "markdown",
   "metadata": {},
   "source": [
    "# Crop Hansen Treecover 10 and above to within property limits"
   ]
  },
  {
   "cell_type": "code",
   "execution_count": 6,
   "metadata": {},
   "outputs": [],
   "source": [
    "dissolved_clean_years =  gpd.read_file(DISSOLVED_CLEAN_YEAR)\n",
    "dissolved_clean_years = dissolved_clean_years.to_crs('EPSG:4326')\n",
    "# Where files will save, can add subfolders if desired\n",
    "output_dir = os.path.join(DATA_PATH, 'processed_rasters')\n",
    "os.makedirs(output_dir, exist_ok=True)\n",
    "# Ensure CRS match between shapefile and raster\n",
    "shapes = dissolved_clean_years.to_crs(crs=rasterio.open(TREECOVER_10_AND_ABOVE).crs)\n"
   ]
  },
  {
   "cell_type": "code",
   "execution_count": 33,
   "metadata": {},
   "outputs": [],
   "source": [
    "# Load the raster\n",
    "with rasterio.open(TREECOVER_10_AND_ABOVE) as src:\n",
    "    # Crop the raster with the shapefile\n",
    "    out_image, out_transform = mask(src, shapes.geometry, crop=False)\n",
    "    out_meta = src.meta.copy()\n",
    "\n",
    "    # Update the metadata to reflect the new shape (height, width), transform, and nodata value\n",
    "    out_meta.update({\"driver\": \"GTiff\",\n",
    "                     \"height\": out_image.shape[1],\n",
    "                     \"width\": out_image.shape[2],\n",
    "                     \"transform\": out_transform,\n",
    "                     \"nodata\": -1})\n",
    "\n",
    "    # Save the cropped raster\n",
    "    output_raster_path = os.path.join(output_dir, \"cropped_TREECOVER_10_AND_ABOVE.tif\")\n",
    "    with rasterio.open(output_raster_path, \"w\", **out_meta) as dest:\n",
    "        dest.write(out_image)"
   ]
  },
  {
   "cell_type": "code",
   "execution_count": 9,
   "metadata": {},
   "outputs": [],
   "source": [
    "raster_to_use_as_mask =  os.path.join(DATA_PATH,'processed_rasters',  \"cropped_TREECOVER_10_AND_ABOVE.tif\")"
   ]
  },
  {
   "cell_type": "code",
   "execution_count": 8,
   "metadata": {},
   "outputs": [],
   "source": [
    "def crop_raster_with_shapefile(input_raster_path, shapefile, output_dir, output_filename=\"cropped_raster.tif\"):\n",
    "    \"\"\"\n",
    "    Crops an input raster using the boundaries defined in a shapefile and saves the cropped raster.\n",
    "\n",
    "    Parameters:\n",
    "    - input_raster_path: Path to the input raster file.\n",
    "    - shapefile: A GeoDataFrame or similar object containing the geometry for cropping.\n",
    "    - output_dir: Directory where the cropped raster will be saved.\n",
    "    - output_filename: Name for the output cropped raster file. Default is 'cropped_raster.tif'.\n",
    "    \"\"\"\n",
    "    # Ensure the output directory exists\n",
    "    os.makedirs(output_dir, exist_ok=True)\n",
    "\n",
    "    # Open the input raster\n",
    "    with rasterio.open(input_raster_path) as src:\n",
    "        # Crop the raster with the shapefile\n",
    "        out_image, out_transform = mask(src, shapefile.geometry, crop=True)\n",
    "        out_meta = src.meta.copy()\n",
    "\n",
    "        # Update the metadata to reflect the new shape, transform, and nodata value\n",
    "        out_meta.update({\n",
    "            \"driver\": \"GTiff\",\n",
    "            \"height\": out_image.shape[1],\n",
    "            \"width\": out_image.shape[2],\n",
    "            \"transform\": out_transform,\n",
    "            \"nodata\": 0\n",
    "        })\n",
    "\n",
    "        # Define the output raster path\n",
    "        output_raster_path = os.path.join(output_dir, output_filename)\n",
    "\n",
    "        # Save the cropped raster\n",
    "        with rasterio.open(output_raster_path, \"w\", **out_meta) as dest:\n",
    "            dest.write(out_image)"
   ]
  },
  {
   "cell_type": "code",
   "execution_count": 5,
   "metadata": {},
   "outputs": [],
   "source": [
    "\n",
    "def crop_and_mask_raster(src_raster_path, property_raster_path, output_raster_path, max_height, max_width):\n",
    "    with rasterio.open(src_raster_path) as src:\n",
    "        # Read the source raster\n",
    "        src_data = src.read(1)\n",
    "        \n",
    "        with rasterio.open(property_raster_path) as property_raster:\n",
    "            # Read the property limits raster\n",
    "            property_data = property_raster.read(1)\n",
    "\n",
    "            # Pad both the source data and property data to the maximum dimensions\n",
    "            src_data = np.pad(src_data, ((0, max_height - src_data.shape[0]), (0, max_width - src_data.shape[1])), constant_values=0)\n",
    "            property_data = np.pad(property_data, ((0, max_height - property_data.shape[0]), (0, max_width - property_data.shape[1])), constant_values=0)\n",
    "\n",
    "            # Create a mask using the padded property limits raster, where zero values are considered as nodata\n",
    "            mask_data = (property_data != -1)\n",
    "\n",
    "            # Check if the nodata value is set for the source raster, otherwise use a default value\n",
    "            nodata_value = src.nodata if src.nodata is not None else -1\n",
    "\n",
    "            # Apply the mask to the source raster\n",
    "            src_data_masked = np.where(mask_data, src_data, nodata_value)\n",
    "            print(f\"Source data shape:{src_data.shape} Property data shape:{property_data.shape} Mask data shape:, {mask_data.shape} After masking: Source data masked shape:, {src_data_masked.shape}\")\n",
    "\n",
    "             # Save the masked raster\n",
    "            profile = src.profile\n",
    "            profile['height'] = max_height\n",
    "            profile['width'] = max_width\n",
    "            profile['nodata'] = nodata_value\n",
    "            profile['dtype'] = 'int16'\n",
    "            with rasterio.open(output_raster_path, 'w', **profile) as dst:\n",
    "                dst.write(src_data_masked.astype(profile['dtype']), 1)\n",
    "\n",
    "\n"
   ]
  },
  {
   "cell_type": "code",
   "execution_count": 10,
   "metadata": {},
   "outputs": [],
   "source": [
    "\n",
    "def apply_mask_to_raster(mask_raster_path, target_raster_path, output_raster_path):\n",
    "    \"\"\"\n",
    "    Applies a mask from one raster to another, setting the target raster values to nodata wherever the mask is zero.\n",
    "\n",
    "    Parameters:\n",
    "    - mask_raster_path: Path to the raster to use as a mask.\n",
    "    - target_raster_path: Path to the raster to apply the mask to.\n",
    "    - output_raster_path: Path where the masked raster will be saved.\n",
    "    \"\"\"\n",
    "    # Open the mask raster\n",
    "    with rasterio.open(mask_raster_path) as mask_raster:\n",
    "        mask_data = mask_raster.read(1)  # Assuming the mask is single-band\n",
    "\n",
    "    # Open the target raster\n",
    "    with rasterio.open(target_raster_path) as target_raster:\n",
    "        target_data = target_raster.read()\n",
    "        target_meta = target_raster.meta.copy()\n",
    "\n",
    "        # Assume nodata values are properly defined in the target raster\n",
    "        nodata_value = target_raster.nodata\n",
    "        if nodata_value is None:\n",
    "            nodata_value = -1  # Default nodata value if not set\n",
    "\n",
    "        # Apply the mask: Set target raster values to nodata wherever the mask is zero\n",
    "        for band in range(target_data.shape[0]):  # Loop through each band\n",
    "            target_data[band][mask_data == 0] = nodata_value\n",
    "\n",
    "        # Update the metadata to reflect any changes\n",
    "        target_meta.update(nodata=nodata_value)\n",
    "\n",
    "        # Save the masked raster\n",
    "        with rasterio.open(output_raster_path, 'w', **target_meta) as dest_raster:\n",
    "            dest_raster.write(target_data)\n",
    "\n"
   ]
  },
  {
   "cell_type": "markdown",
   "metadata": {},
   "source": [
    "# Soil"
   ]
  },
  {
   "cell_type": "code",
   "execution_count": 31,
   "metadata": {},
   "outputs": [],
   "source": [
    "\n",
    "output_dir = os.path.join(DATA_PATH, 'ml_data')\n",
    "soil_masked_output_raster = os.path.join(output_dir,'soil_masked.tif')"
   ]
  },
  {
   "cell_type": "code",
   "execution_count": 66,
   "metadata": {},
   "outputs": [],
   "source": [
    "# Open the reference raster\n",
    "with rasterio.open(raster_to_use_as_mask) as ref_raster:\n",
    "    ref_transform = ref_raster.transform\n",
    "    ref_crs = ref_raster.crs\n",
    "    ref_width = 20381\n",
    "    ref_height = 22512\n",
    "\n",
    "    # Open the raster to be resampled\n",
    "    with rasterio.open(SOIL) as soil_raster:\n",
    "        soil_data = soil_raster.read(1)\n",
    "\n",
    "        # Create a new array for the resampled data\n",
    "        resampled_data = np.empty(shape=(ref_height, ref_width))\n",
    "\n",
    "        # Resample the soil data\n",
    "        reproject(\n",
    "            source=soil_data,\n",
    "            destination=resampled_data,\n",
    "            src_transform=soil_raster.transform,\n",
    "            src_crs=soil_raster.crs,\n",
    "            dst_transform=ref_transform,\n",
    "            dst_crs=ref_crs,\n",
    "            resampling=Resampling.nearest)\n",
    "\n",
    "        # Write the resampled data to a new raster file\n",
    "        with rasterio.open('resampled_soil.tif', 'w', driver='GTiff',\n",
    "                           height=ref_height, width=ref_width,\n",
    "                           count=1, dtype=str(soil_data.dtype),\n",
    "                           nodata= 0,\n",
    "                           crs=ref_crs, transform=ref_transform) as dst:\n",
    "            dst.write(resampled_data, 1)\n",
    "\n"
   ]
  },
  {
   "cell_type": "code",
   "execution_count": 20,
   "metadata": {},
   "outputs": [],
   "source": [
    "resampled_soil = r\"C:\\Users\\bsf31\\Documents\\post-meds\\data\\policy-data\\processed_rasters\\resampled_soil.tif\""
   ]
  },
  {
   "cell_type": "code",
   "execution_count": 34,
   "metadata": {},
   "outputs": [
    {
     "name": "stdout",
     "output_type": "stream",
     "text": [
      "Source data shape:(22512, 20381) Property data shape:(22512, 20381) Mask data shape:, (22512, 20381) After masking: Source data masked shape:, (22512, 20381)\n"
     ]
    }
   ],
   "source": [
    "crop_and_mask_raster(resampled_soil, raster_to_use_as_mask,soil_masked_output_raster,22512, 20381)"
   ]
  },
  {
   "cell_type": "code",
   "execution_count": 28,
   "metadata": {},
   "outputs": [
    {
     "data": {
      "text/plain": [
       "'C:\\\\Users\\\\bsf31\\\\Documents\\\\post-meds\\\\data\\\\policy-data\\\\ml_data\\\\cities_masked.tif'"
      ]
     },
     "execution_count": 28,
     "metadata": {},
     "output_type": "execute_result"
    }
   ],
   "source": [
    "output_raster_path"
   ]
  },
  {
   "cell_type": "code",
   "execution_count": 15,
   "metadata": {},
   "outputs": [],
   "source": [
    "output_dir = os.path.join(DATA_PATH, 'processed_rasters')\n",
    "os.makedirs(output_dir, exist_ok=True)"
   ]
  },
  {
   "cell_type": "code",
   "execution_count": 91,
   "metadata": {},
   "outputs": [],
   "source": [
    "crop_raster_with_shapefile('resampled_soil.tif',dissolved_clean_years,output_dir, 'cropped_resampled_soil.tif' )"
   ]
  },
  {
   "cell_type": "code",
   "execution_count": 94,
   "metadata": {},
   "outputs": [],
   "source": [
    "# Open the original raster to read data\n",
    "with rasterio.open(cropped_resampled_soil) as raster:\n",
    "    data = raster.read(1)  # Read the first band\n",
    "    meta = raster.meta.copy()  # Copy the metadata\n",
    "\n",
    "    # Modify the data: Set areas with 0 to -1 (your chosen nodata value)\n",
    "    data[data == 0] = -1\n",
    "\n",
    "    # Update the metadata for the new file\n",
    "    meta.update({\n",
    "        'nodata': -1,  # Set the new nodata value\n",
    "        'dtype': 'int16'  # Ensure the data type is int16\n",
    "    })\n",
    "\n",
    "# Create a new raster file with the modified data and updated metadata\n",
    "new_raster_path =  os.path.join(DATA_PATH, 'processed_rasters', 'cropped_resampled_soil_nodata.tif')\n",
    "with rasterio.open(new_raster_path, 'w', **meta) as new_raster:\n",
    "    new_raster.write(data.astype('int16'), 1)  # Write the modified data as the first band\n"
   ]
  },
  {
   "cell_type": "code",
   "execution_count": 95,
   "metadata": {},
   "outputs": [],
   "source": [
    "\n",
    "\n"
   ]
  },
  {
   "cell_type": "code",
   "execution_count": 99,
   "metadata": {},
   "outputs": [],
   "source": [
    "with rasterio.open(new_raster_path) as src:\n",
    "    src_data = src.read(1)\n",
    "    src_transform = src.transform\n",
    "    src_crs = src.crs\n",
    "    src_profile = src.profile\n",
    "\n",
    "with rasterio.open(raster_to_use_as_mask) as mask_raster:\n",
    "    mask_data = mask_raster.read(1)\n",
    "    mask_transform = mask_raster.transform\n",
    "    mask_crs = mask_raster.crs\n",
    "\n",
    "    # Ensure the mask is in the same CRS, transform, and extent as the source\n",
    "    if (src_crs != mask_crs) or (src_transform != mask_transform) or (src_data.shape != mask_data.shape):\n",
    "        aligned_mask_data = np.empty(src_data.shape, dtype=mask_raster.dtypes[0])\n",
    "        reproject(\n",
    "            source=mask_data,\n",
    "            destination=aligned_mask_data,\n",
    "            src_transform=mask_transform,\n",
    "            src_crs=mask_crs,\n",
    "            dst_transform=src_transform,\n",
    "            dst_crs=src_crs,\n",
    "            resampling=Resampling.nearest\n",
    "        )\n",
    "    else:\n",
    "        aligned_mask_data = mask_data\n",
    "\n",
    "# Apply the mask, ensuring nodata values are aligned\n",
    "nodata_mask = (aligned_mask_data == -1)  # Assuming -1 is the nodata value in the mask\n",
    "masked_src_data = np.where(nodata_mask, -1, src_data)  # Apply nodata values from the mask to the source\n",
    "\n",
    "# Write the masked data to a new raster with updated profile\n",
    "src_profile.update(nodata=-1)\n",
    "with rasterio.open(soil_masked_output_raster, 'w', **src_profile) as dst:\n",
    "    dst.write(masked_src_data, 1)"
   ]
  },
  {
   "cell_type": "markdown",
   "metadata": {},
   "source": [
    "# Precipitation"
   ]
  },
  {
   "cell_type": "code",
   "execution_count": 109,
   "metadata": {},
   "outputs": [],
   "source": [
    "precipitation_raw = r\"C:\\Users\\bsf31\\Documents\\post-meds\\data\\policy-data\\precipitation_raw\\average_precipitation_2001_2022.tif\""
   ]
  },
  {
   "cell_type": "code",
   "execution_count": 122,
   "metadata": {},
   "outputs": [],
   "source": [
    "output_dir = os.path.join(DATA_PATH, 'ml_data')\n",
    "os.makedirs(output_dir, exist_ok=True)\n",
    "output_raster_path = os.path.join(output_dir, \"precipitation_masked.tif\")"
   ]
  },
  {
   "cell_type": "code",
   "execution_count": 123,
   "metadata": {},
   "outputs": [
    {
     "name": "stdout",
     "output_type": "stream",
     "text": [
      "Source data shape:(22512, 20381) Property data shape:(22512, 20381) Mask data shape:, (22512, 20381) After masking: Source data masked shape:, (22512, 20381)\n"
     ]
    }
   ],
   "source": [
    "crop_and_mask_raster(precipitation_raw, raster_to_use_as_mask,output_raster_path,22512, 20381)"
   ]
  },
  {
   "cell_type": "markdown",
   "metadata": {},
   "source": [
    "# Land Use Plan 'GRUPO'"
   ]
  },
  {
   "cell_type": "code",
   "execution_count": 6,
   "metadata": {},
   "outputs": [],
   "source": [
    "grupo = r\"C:\\Users\\bsf31\\Documents\\post-meds\\data\\policy-data\\processed_rasters\\grupo\\output_grupo_raster.tif\""
   ]
  },
  {
   "cell_type": "code",
   "execution_count": 7,
   "metadata": {},
   "outputs": [],
   "source": [
    "output_dir = os.path.join(DATA_PATH, 'ml_data')\n",
    "os.makedirs(output_dir, exist_ok=True)\n",
    "output_raster_path = os.path.join(output_dir, \"grupo_masked.tif\")"
   ]
  },
  {
   "cell_type": "code",
   "execution_count": 10,
   "metadata": {},
   "outputs": [
    {
     "name": "stdout",
     "output_type": "stream",
     "text": [
      "Source data shape:(22512, 20381) Property data shape:(22512, 20381) Mask data shape:, (22512, 20381) After masking: Source data masked shape:, (22512, 20381)\n"
     ]
    }
   ],
   "source": [
    "crop_and_mask_raster(grupo, raster_to_use_as_mask,output_raster_path,22512, 20381)"
   ]
  },
  {
   "cell_type": "markdown",
   "metadata": {},
   "source": [
    "# Travel Time to Cities and Ports"
   ]
  },
  {
   "cell_type": "code",
   "execution_count": 1,
   "metadata": {},
   "outputs": [],
   "source": [
    "cities = r\"C:\\Users\\bsf31\\Documents\\post-meds\\data\\policy-data\\raw_nelson-20240308T085020Z-001\\raw_nelson\\travel_time_to_cities_12.tif\""
   ]
  },
  {
   "cell_type": "code",
   "execution_count": 11,
   "metadata": {},
   "outputs": [],
   "source": [
    "output_dir = os.path.join(DATA_PATH, 'ml_data')\n",
    "os.makedirs(output_dir, exist_ok=True)\n",
    "output_raster_path = os.path.join(output_dir, \"cities_masked.tif\")"
   ]
  },
  {
   "cell_type": "code",
   "execution_count": 17,
   "metadata": {},
   "outputs": [
    {
     "name": "stdout",
     "output_type": "stream",
     "text": [
      "Source data shape:(22512, 20381) Property data shape:(22512, 20381) Mask data shape:, (22512, 20381) After masking: Source data masked shape:, (22512, 20381)\n"
     ]
    }
   ],
   "source": [
    "# Open the reference raster\n",
    "with rasterio.open(raster_to_use_as_mask) as ref_raster:\n",
    "    ref_transform = ref_raster.transform\n",
    "    ref_crs = ref_raster.crs\n",
    "    ref_width = 20381\n",
    "    ref_height = 22512\n",
    "\n",
    "    # Open the raster to be resampled\n",
    "    with rasterio.open(cities) as cities_src:\n",
    "        cities_data = cities_src.read(1)\n",
    "        cities_profile = cities_src.profile\n",
    "\n",
    "        # Update the profile of the resampled raster\n",
    "        cities_profile.update({\n",
    "            'crs': ref_crs,\n",
    "            'transform': ref_transform,  # Use the transform of the reference raster\n",
    "            'width': ref_width,  # Use the width of the reference raster\n",
    "            'height': ref_height,  # Use the height of the reference raster\n",
    "            'nodata': -1,\n",
    "            'dtype': 'int16'\n",
    "        })\n",
    "\n",
    "        # Create a new array for the resampled data\n",
    "        resampled_data = np.empty((ref_height, ref_width))\n",
    "\n",
    "        # Resample the cities data\n",
    "        reproject(\n",
    "            source=cities_data,\n",
    "            destination=resampled_data,\n",
    "            src_transform=cities_src.transform,\n",
    "            src_crs=cities_src.crs,\n",
    "            dst_transform=ref_transform,  # Use the transform of the reference raster\n",
    "            dst_crs=ref_crs,\n",
    "            resampling=Resampling.nearest)\n",
    "\n",
    "        # Write the resampled data to a new raster file\n",
    "        with rasterio.open('resampled_cities.tif', 'w', **cities_profile) as dst:\n",
    "            dst.write(resampled_data.astype('int16'), 1)\n",
    "\n",
    "cities_masked_output_raster = os.path.join(output_dir,'cities_masked.tif')\n",
    "\n"
   ]
  },
  {
   "cell_type": "code",
   "execution_count": 30,
   "metadata": {},
   "outputs": [
    {
     "name": "stdout",
     "output_type": "stream",
     "text": [
      "Source data shape:(22512, 20381) Property data shape:(22512, 20381) Mask data shape:, (22512, 20381) After masking: Source data masked shape:, (22512, 20381)\n"
     ]
    }
   ],
   "source": [
    "# Pass the resampled cities data to your crop_and_mask_raster function\n",
    "crop_and_mask_raster('resampled_cities.tif', raster_to_use_as_mask, cities_masked_output_raster, 22512, 20381)"
   ]
  },
  {
   "cell_type": "code",
   "execution_count": 18,
   "metadata": {},
   "outputs": [],
   "source": [
    "ports = r\"C:\\Users\\bsf31\\Documents\\post-meds\\data\\policy-data\\raw_nelson-20240308T085020Z-001\\raw_nelson\\travel_time_to_ports_5.tif\""
   ]
  },
  {
   "cell_type": "code",
   "execution_count": 19,
   "metadata": {},
   "outputs": [
    {
     "name": "stdout",
     "output_type": "stream",
     "text": [
      "Source data shape:(22512, 20381) Property data shape:(22512, 20381) Mask data shape:, (22512, 20381) After masking: Source data masked shape:, (22512, 20381)\n"
     ]
    }
   ],
   "source": [
    "# Open the reference raster\n",
    "with rasterio.open(raster_to_use_as_mask) as ref_raster:\n",
    "    ref_transform = ref_raster.transform\n",
    "    ref_crs = ref_raster.crs\n",
    "    ref_width = 20381\n",
    "    ref_height = 22512\n",
    "\n",
    "    # Open the raster to be resampled\n",
    "    with rasterio.open(ports) as ports_src:\n",
    "        ports_data = ports_src.read(1)\n",
    "        ports_profile = ports_src.profile\n",
    "\n",
    "        # Update the profile of the resampled raster\n",
    "        ports_profile.update({\n",
    "            'crs': ref_crs,\n",
    "            'transform': ref_transform,  # Use the transform of the reference raster\n",
    "            'width': ref_width,  # Use the width of the reference raster\n",
    "            'height': ref_height,  # Use the height of the reference raster\n",
    "            'nodata': -1,\n",
    "            'dtype': 'int16'\n",
    "        })\n",
    "\n",
    "        # Create a new array for the resampled data\n",
    "        resampled_data = np.empty((ref_height, ref_width))\n",
    "\n",
    "        # Resample the ports data\n",
    "        reproject(\n",
    "            source=ports_data,\n",
    "            destination=resampled_data,\n",
    "            src_transform=ports_src.transform,\n",
    "            src_crs=ports_src.crs,\n",
    "            dst_transform=ref_transform,  # Use the transform of the reference raster\n",
    "            dst_crs=ref_crs,\n",
    "            resampling=Resampling.nearest)\n",
    "\n",
    "        # Write the resampled data to a new raster file\n",
    "        with rasterio.open('resampled_ports.tif', 'w', **ports_profile) as dst:\n",
    "            dst.write(resampled_data.astype('int16'), 1)\n",
    "\n",
    "ports_masked_output_raster = os.path.join(output_dir,'ports_masked.tif')\n",
    "\n",
    "# Pass the resampled ports data to your crop_and_mask_raster function\n",
    "crop_and_mask_raster('resampled_ports.tif', raster_to_use_as_mask, ports_masked_output_raster, 22512, 20381)"
   ]
  }
 ],
 "metadata": {
  "kernelspec": {
   "display_name": "dev_env",
   "language": "python",
   "name": "python3"
  },
  "language_info": {
   "codemirror_mode": {
    "name": "ipython",
    "version": 3
   },
   "file_extension": ".py",
   "mimetype": "text/x-python",
   "name": "python",
   "nbconvert_exporter": "python",
   "pygments_lexer": "ipython3",
   "version": "3.11.5"
  }
 },
 "nbformat": 4,
 "nbformat_minor": 2
}
