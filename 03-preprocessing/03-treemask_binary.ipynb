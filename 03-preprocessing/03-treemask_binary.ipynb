{
 "cells": [
  {
   "cell_type": "markdown",
   "metadata": {},
   "source": [
    "# Import Libraries"
   ]
  },
  {
   "cell_type": "code",
   "execution_count": 2,
   "metadata": {},
   "outputs": [],
   "source": [
    "import os\n",
    "import sys\n",
    "import rasterio\n",
    "import numpy as np\n",
    "import pandas as pd\n",
    "import matplotlib.pyplot as plt\n",
    "import shutil\n",
    "from pathlib import Path\n",
    "import geopandas as gpd\n",
    "\n",
    "import rasterio.mask\n",
    "from rasterio.mask import mask\n"
   ]
  },
  {
   "cell_type": "markdown",
   "metadata": {},
   "source": [
    "# Import Constants"
   ]
  },
  {
   "cell_type": "code",
   "execution_count": 3,
   "metadata": {},
   "outputs": [],
   "source": [
    "# Get the current working directory\n",
    "current_dir = os.path.abspath('')\n",
    "\n",
    "# Search for the 'constants.py' file starting from the current directory and moving up the hierarchy\n",
    "project_root = current_dir\n",
    "while not os.path.isfile(os.path.join(project_root, 'constants.py')):\n",
    "    project_root = os.path.dirname(project_root)\n",
    "\n",
    "# Add the project root to the Python path\n",
    "sys.path.append(project_root)\n"
   ]
  },
  {
   "cell_type": "code",
   "execution_count": 13,
   "metadata": {},
   "outputs": [],
   "source": [
    "from constants import MODIFIED_RASTER, GRUPO_RASTER, DATA_PATH, CROPPED_HANSEN_TEN_MASK, HANSEN_TREECOVER_FILEPATH, SOIL, DISSOLVED_CLEAN_YEAR, TREECOVER_10_AND_ABOVE\n"
   ]
  },
  {
   "cell_type": "code",
   "execution_count": 14,
   "metadata": {},
   "outputs": [],
   "source": [
    "# Where files will save, can add subfolders if desired\n",
    "output_dir = os.path.join(DATA_PATH, 'ml_data')\n",
    "os.makedirs(output_dir, exist_ok=True)"
   ]
  },
  {
   "cell_type": "markdown",
   "metadata": {},
   "source": [
    "# TREECOVER MASK"
   ]
  },
  {
   "cell_type": "code",
   "execution_count": 6,
   "metadata": {},
   "outputs": [],
   "source": [
    "with rasterio.open(HANSEN_TREECOVER_FILEPATH) as src:\n",
    "    tree_cover_data = src.read(1)\n",
    "    tree_cover_meta = src.meta\n",
    "\n",
    "# Create a mask where tree cover is less than 10%\n",
    "low_tree_cover_mask = tree_cover_data < 10\n"
   ]
  },
  {
   "cell_type": "markdown",
   "metadata": {},
   "source": [
    "# Reapply Mask to Hansen deforestation"
   ]
  },
  {
   "cell_type": "code",
   "execution_count": 6,
   "metadata": {},
   "outputs": [],
   "source": [
    "with rasterio.open(MODIFIED_RASTER) as src:\n",
    "    final_raster_data = src.read(1)\n",
    "    final_raster_meta = src.meta\n",
    "\n",
    "# Apply the low tree cover mask to final_modified_raster0\n",
    "final_raster_data[low_tree_cover_mask] = -1\n",
    "\n",
    "# Save the updated raster\n",
    "updated_raster_path = os.path.join(output_dir, 'updated_final_modified_raster.tif')\n",
    "with rasterio.open(updated_raster_path, 'w', **final_raster_meta) as dst:\n",
    "    dst.write(final_raster_data, 1)\n"
   ]
  },
  {
   "cell_type": "markdown",
   "metadata": {},
   "source": [
    "# CONVERT TO BINARY"
   ]
  },
  {
   "cell_type": "code",
   "execution_count": 8,
   "metadata": {},
   "outputs": [],
   "source": [
    "\n",
    "raster_path = r\"C:\\Users\\bsf31\\Documents\\post-meds\\data\\policy-data\\ml_data\\updated_final_modified_raster.tif\"\n",
    "\n",
    "with rasterio.open(raster_path) as src:\n",
    "    raster_data = src.read(1)\n",
    "    raster_meta = src.meta\n"
   ]
  },
  {
   "cell_type": "code",
   "execution_count": 9,
   "metadata": {},
   "outputs": [],
   "source": [
    "binary_raster_path = os.path.join(output_dir, 'binary_deforestation_raster.tif')\n",
    "\n",
    "with rasterio.open(raster_path) as src:\n",
    "    raster_data = src.read(1)\n",
    "    raster_meta = src.meta\n",
    "\n",
    "    # Create a mask for nodata values\n",
    "    nodata_mask = raster_data == -1\n",
    "\n",
    "    # Convert values from 1-22 to 1, and everything else to 0, except for nodata values\n",
    "    binary_raster_data = np.where((raster_data >= 1) & (raster_data <= 22), 1, 0)\n",
    "\n",
    "    # Reapply the nodata mask to retain -1 values for nodata areas\n",
    "    binary_raster_data[nodata_mask] = -1\n",
    "\n",
    "    # Save the binary raster\n",
    "    with rasterio.open(binary_raster_path, 'w', **raster_meta) as dst:\n",
    "        dst.write(binary_raster_data, 1)"
   ]
  }
 ],
 "metadata": {
  "kernelspec": {
   "display_name": "policy",
   "language": "python",
   "name": "policy"
  },
  "language_info": {
   "codemirror_mode": {
    "name": "ipython",
    "version": 3
   },
   "file_extension": ".py",
   "mimetype": "text/x-python",
   "name": "python",
   "nbconvert_exporter": "python",
   "pygments_lexer": "ipython3",
   "version": "3.11.5"
  },
  "orig_nbformat": 4
 },
 "nbformat": 4,
 "nbformat_minor": 2
}
