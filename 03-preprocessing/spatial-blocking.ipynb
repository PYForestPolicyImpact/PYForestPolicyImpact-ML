{
 "cells": [
  {
   "cell_type": "code",
   "execution_count": 2,
   "metadata": {},
   "outputs": [],
   "source": [
    "import geopandas as gpd\n",
    "import pandas as pd\n",
    "import sys\n",
    "import os"
   ]
  },
  {
   "cell_type": "code",
   "execution_count": 3,
   "metadata": {},
   "outputs": [],
   "source": [
    "# Get the current working directory\n",
    "current_dir = os.path.abspath('')\n",
    "\n",
    "# Search for the 'constants.py' file starting from the current directory and moving up the hierarchy\n",
    "project_root = current_dir\n",
    "while not os.path.isfile(os.path.join(project_root, 'constants.py')):\n",
    "    project_root = os.path.dirname(project_root)\n",
    "\n",
    "# Add the project root to the Python path\n",
    "sys.path.append(project_root)"
   ]
  },
  {
   "cell_type": "code",
   "execution_count": 4,
   "metadata": {},
   "outputs": [],
   "source": [
    "# Import SHAPEFILE_PATH from constants\n",
    "from constants import LUP_13"
   ]
  },
  {
   "cell_type": "code",
   "execution_count": 5,
   "metadata": {},
   "outputs": [],
   "source": [
    "# Load the dataset\n",
    "gdf = gpd.read_file(LUP_13)"
   ]
  },
  {
   "cell_type": "code",
   "execution_count": 6,
   "metadata": {},
   "outputs": [
    {
     "name": "stdout",
     "output_type": "stream",
     "text": [
      "Training set size: 1661\n",
      "Validation set size: 185\n"
     ]
    }
   ],
   "source": [
    "# Function to select properties for validation set based on distance constraint\n",
    "def select_validation_set(gdf, distance_threshold=5000, validation_fraction=0.1):\n",
    "    validation_set = []\n",
    "    remaining_set = gdf.copy()\n",
    "    \n",
    "    while len(validation_set) < validation_fraction * len(gdf):\n",
    "        # Randomly select a property\n",
    "        selected_property = remaining_set.sample(1)\n",
    "        \n",
    "        # Append to validation set\n",
    "        validation_set.append(selected_property)\n",
    "        \n",
    "        # Calculate distance between the centroid of the selected property and centroids of remaining properties\n",
    "        distances = remaining_set.centroid.distance(selected_property.centroid.squeeze())\n",
    "        \n",
    "        # Remove properties within the distance threshold from the remaining set\n",
    "        remaining_set = remaining_set[distances > distance_threshold]\n",
    "        \n",
    "        # Break if no more properties can be added\n",
    "        if len(remaining_set) == 0:\n",
    "            break\n",
    "    \n",
    "    return gpd.GeoDataFrame(pd.concat(validation_set, ignore_index=True))\n",
    "\n",
    "# Get validation set\n",
    "validation_gdf = select_validation_set(gdf)\n",
    "\n",
    "# Get training set by excluding validation set\n",
    "train_gdf = gdf[~gdf.index.isin(validation_gdf.index)]\n",
    "\n",
    "print(f\"Training set size: {len(train_gdf)}\")\n",
    "print(f\"Validation set size: {len(validation_gdf)}\")"
   ]
  },
  {
   "cell_type": "code",
   "execution_count": 7,
   "metadata": {},
   "outputs": [],
   "source": [
    "# Save training set to a GeoPackage file\n",
    "train_gdf.to_file(\"training_set.gpkg\", driver=\"GPKG\")\n",
    "\n",
    "# Save validation set to a GeoPackage file\n",
    "validation_gdf.to_file(\"validation_set.gpkg\", driver=\"GPKG\")\n"
   ]
  },
  {
   "cell_type": "code",
   "execution_count": 9,
   "metadata": {},
   "outputs": [],
   "source": [
    "def select_validation_set(gdf, distance_threshold=5000, validation_fraction=0.1):\n",
    "    validation_set = []\n",
    "    remaining_set = gdf.copy()\n",
    "    \n",
    "    while len(validation_set) < validation_fraction * len(gdf):\n",
    "        # Randomly select a property\n",
    "        selected_property = remaining_set.sample(1)\n",
    "        \n",
    "        # Append to validation set\n",
    "        validation_set.append(selected_property)\n",
    "        \n",
    "        # Calculate distance between the boundary of the selected property and boundaries of remaining properties\n",
    "        distances = remaining_set.boundary.distance(selected_property.boundary.squeeze())\n",
    "        \n",
    "        # Remove properties within the distance threshold from the remaining set\n",
    "        remaining_set = remaining_set[distances > distance_threshold]\n",
    "        \n",
    "        # Break if no more properties can be added\n",
    "        if len(remaining_set) == 0:\n",
    "            break\n",
    "    \n",
    "    return gpd.GeoDataFrame(pd.concat(validation_set, ignore_index=True))\n"
   ]
  },
  {
   "cell_type": "code",
   "execution_count": 10,
   "metadata": {},
   "outputs": [],
   "source": [
    "# Get validation set\n",
    "validation_gdf = select_validation_set(gdf)\n",
    "\n",
    "# Get training set by excluding validation set\n",
    "train_gdf = gdf[~gdf.index.isin(validation_gdf.index)]\n",
    "\n",
    "# Save training set to a GeoPackage file\n",
    "train_gdf.to_file(\"training_setb.gpkg\", driver=\"GPKG\")\n",
    "\n",
    "# Save validation set to a GeoPackage file\n",
    "validation_gdf.to_file(\"validation_setb.gpkg\", driver=\"GPKG\")"
   ]
  },
  {
   "cell_type": "code",
   "execution_count": 11,
   "metadata": {},
   "outputs": [
    {
     "name": "stdout",
     "output_type": "stream",
     "text": [
      "Training set size: 1661\n",
      "Validation set size: 185\n"
     ]
    }
   ],
   "source": [
    "print(f\"Training set size: {len(train_gdf)}\")\n",
    "print(f\"Validation set size: {len(validation_gdf)}\")"
   ]
  }
 ],
 "metadata": {
  "kernelspec": {
   "display_name": "policy",
   "language": "python",
   "name": "policy"
  },
  "language_info": {
   "codemirror_mode": {
    "name": "ipython",
    "version": 3
   },
   "file_extension": ".py",
   "mimetype": "text/x-python",
   "name": "python",
   "nbconvert_exporter": "python",
   "pygments_lexer": "ipython3",
   "version": "3.11.5"
  },
  "orig_nbformat": 4
 },
 "nbformat": 4,
 "nbformat_minor": 2
}
