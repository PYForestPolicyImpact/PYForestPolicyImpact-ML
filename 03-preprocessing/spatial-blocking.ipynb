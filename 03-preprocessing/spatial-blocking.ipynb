{
 "cells": [
  {
   "cell_type": "code",
   "execution_count": 1,
   "metadata": {},
   "outputs": [],
   "source": [
    "import geopandas as gpd\n",
    "import pandas as pd\n",
    "import sys\n",
    "import os"
   ]
  },
  {
   "cell_type": "code",
   "execution_count": 2,
   "metadata": {},
   "outputs": [],
   "source": [
    "# Get the current working directory\n",
    "current_dir = os.path.abspath('')\n",
    "\n",
    "# Search for the 'constants.py' file starting from the current directory and moving up the hierarchy\n",
    "project_root = current_dir\n",
    "while not os.path.isfile(os.path.join(project_root, 'constants.py')):\n",
    "    project_root = os.path.dirname(project_root)\n",
    "\n",
    "# Add the project root to the Python path\n",
    "sys.path.append(project_root)"
   ]
  },
  {
   "cell_type": "code",
   "execution_count": 8,
   "metadata": {},
   "outputs": [],
   "source": [
    "from constants import DATA_PATH"
   ]
  },
  {
   "cell_type": "code",
   "execution_count": 3,
   "metadata": {},
   "outputs": [],
   "source": [
    "dissolved_putid = r\"C:\\Users\\bsf31\\Documents\\post-meds\\data\\policy-data\\processing\\dissolved_clean_putid.gpkg\""
   ]
  },
  {
   "cell_type": "code",
   "execution_count": 4,
   "metadata": {},
   "outputs": [],
   "source": [
    "# Load the dataset\n",
    "gdf = gpd.read_file(dissolved_putid)"
   ]
  },
  {
   "cell_type": "code",
   "execution_count": 7,
   "metadata": {},
   "outputs": [],
   "source": [
    "gdf.geometry = gdf.buffer(25, join_style= 2)\n",
    "gdf.geometry = gdf.buffer(-25, join_style= 2)\n"
   ]
  },
  {
   "cell_type": "code",
   "execution_count": 9,
   "metadata": {},
   "outputs": [],
   "source": [
    "# For Visual Check in Qgis\n",
    "\n",
    "'''\n",
    "output_path = os.path.join(DATA_PATH,'processing')\n",
    "\n",
    "\n",
    "# Create the directory if it doesn't exist\n",
    "if not os.path.exists(output_path):\n",
    "    os.makedirs(output_path)\n",
    "    # Save the GeoDataFrame as a GeoPackage\n",
    "# Define the filename for the GeoPackage\n",
    "\n",
    "filename = os.path.join(output_path, \"clean_dissolved_clean_putid.gpkg\")\n",
    "gdf.to_file(filename, driver=\"GPKG\")'''"
   ]
  },
  {
   "cell_type": "code",
   "execution_count": 14,
   "metadata": {},
   "outputs": [],
   "source": [
    "def select_validation_set(gdf, distance_threshold=5000, validation_fraction=0.1):\n",
    "    # Initialize an empty GeoDataFrame for the validation set\n",
    "    validation_set = gpd.GeoDataFrame(columns=gdf.columns)\n",
    "    # Make a copy of the original GeoDataFrame to work as the remaining set\n",
    "    remaining_set = gdf.copy()\n",
    "    \n",
    "    # Calculate the target size of the validation set based on the specified fraction\n",
    "    target_size = validation_fraction * len(gdf)\n",
    "\n",
    "    while len(validation_set) < target_size:\n",
    "        # Randomly select a property from the remaining set\n",
    "        selected_property = remaining_set.sample(1)\n",
    "\n",
    "        # Append the selected property to the validation set\n",
    "        validation_set = pd.concat([validation_set, selected_property], ignore_index=True)\n",
    "        \n",
    "        # Calculate the distance from the selected property to all properties in the remaining set\n",
    "        distances = remaining_set.distance(selected_property.geometry.squeeze())\n",
    "        \n",
    "        # Remove properties within the distance threshold from the remaining set\n",
    "        remaining_set = remaining_set.loc[distances > distance_threshold]\n",
    "\n",
    "        # If the remaining set is empty, break the loop to prevent infinite iterations\n",
    "        if remaining_set.empty:\n",
    "            break\n",
    "\n",
    "    return validation_set, remaining_set\n"
   ]
  },
  {
   "cell_type": "code",
   "execution_count": 15,
   "metadata": {},
   "outputs": [],
   "source": [
    "validation_set, remaining_set = select_validation_set(gdf)\n"
   ]
  },
  {
   "cell_type": "code",
   "execution_count": null,
   "metadata": {},
   "outputs": [],
   "source": [
    "# Save training set to a GeoPackage file\n",
    "remaining_set.to_file(\"training_set.gpkg\", driver=\"GPKG\")\n",
    "\n",
    "# Save validation set to a GeoPackage file\n",
    "validation_set.to_file(\"validation_set.gpkg\", driver=\"GPKG\")"
   ]
  },
  {
   "cell_type": "code",
   "execution_count": 13,
   "metadata": {},
   "outputs": [],
   "source": [
    "# Get validation set\n",
    "validation_gdf = select_validation_set(gdf)\n",
    "\n",
    "# Get training set by excluding validation set\n",
    "train_gdf = gdf[~gdf.index.isin(validation_gdf.index)]\n",
    "\n",
    "# Save training set to a GeoPackage file\n",
    "train_gdf.to_file(\"training_setb.gpkg\", driver=\"GPKG\")\n",
    "\n",
    "# Save validation set to a GeoPackage file\n",
    "validation_gdf.to_file(\"validation_setb.gpkg\", driver=\"GPKG\")"
   ]
  },
  {
   "cell_type": "code",
   "execution_count": 12,
   "metadata": {},
   "outputs": [
    {
     "name": "stdout",
     "output_type": "stream",
     "text": [
      "Training set size: 1570\n",
      "Validation set size: 175\n"
     ]
    }
   ],
   "source": [
    "print(f\"Training set size: {len(train_gdf)}\")\n",
    "print(f\"Validation set size: {len(validation_gdf)}\")"
   ]
  }
 ],
 "metadata": {
  "kernelspec": {
   "display_name": "policy",
   "language": "python",
   "name": "python3"
  },
  "language_info": {
   "codemirror_mode": {
    "name": "ipython",
    "version": 3
   },
   "file_extension": ".py",
   "mimetype": "text/x-python",
   "name": "python",
   "nbconvert_exporter": "python",
   "pygments_lexer": "ipython3",
   "version": "3.11.5"
  },
  "orig_nbformat": 4
 },
 "nbformat": 4,
 "nbformat_minor": 2
}
