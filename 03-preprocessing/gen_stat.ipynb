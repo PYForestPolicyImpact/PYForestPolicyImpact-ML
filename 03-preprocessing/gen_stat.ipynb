{
 "cells": [
  {
   "cell_type": "code",
   "execution_count": 1,
   "metadata": {},
   "outputs": [],
   "source": [
    "import geopandas as gpd\n",
    "import pandas as pd\n",
    "# Read the GeoPackage file\n",
    "file_path = r\"C:\\Users\\bsf31\\Documents\\post-meds\\data\\policy-data\\zonal_statistics.gpkg\"\n",
    "data = gpd.read_file(file_path)\n",
    "\n",
    "# Calculate the sum of each unique value in the \"grupo\" column for the \"_count\" column\n",
    "sum_by_grupo = data.groupby(\"grupo\")[\"_count\"].sum()\n",
    "\n",
    "\n"
   ]
  },
  {
   "cell_type": "code",
   "execution_count": 2,
   "metadata": {},
   "outputs": [
    {
     "data": {
      "text/html": [
       "<div>\n",
       "<style scoped>\n",
       "    .dataframe tbody tr th:only-of-type {\n",
       "        vertical-align: middle;\n",
       "    }\n",
       "\n",
       "    .dataframe tbody tr th {\n",
       "        vertical-align: top;\n",
       "    }\n",
       "\n",
       "    .dataframe thead th {\n",
       "        text-align: right;\n",
       "    }\n",
       "</style>\n",
       "<table border=\"1\" class=\"dataframe\">\n",
       "  <thead>\n",
       "    <tr style=\"text-align: right;\">\n",
       "      <th></th>\n",
       "      <th>anho_capa</th>\n",
       "      <th>put_id</th>\n",
       "      <th>fecha_res</th>\n",
       "      <th>grupo</th>\n",
       "      <th>_count</th>\n",
       "      <th>_sum</th>\n",
       "      <th>geometry</th>\n",
       "    </tr>\n",
       "  </thead>\n",
       "  <tbody>\n",
       "    <tr>\n",
       "      <th>0</th>\n",
       "      <td>2000</td>\n",
       "      <td>PUT0176</td>\n",
       "      <td>2000-01-19 00:00:00</td>\n",
       "      <td>BOSQUES</td>\n",
       "      <td>869.0</td>\n",
       "      <td>285.0</td>\n",
       "      <td>MULTIPOLYGON (((288618.472 7557270.352, 284617...</td>\n",
       "    </tr>\n",
       "    <tr>\n",
       "      <th>1</th>\n",
       "      <td>2000</td>\n",
       "      <td>PUT0176</td>\n",
       "      <td>2000-01-19 00:00:00</td>\n",
       "      <td>AREA_AUTORIZADA</td>\n",
       "      <td>3212.0</td>\n",
       "      <td>1585.0</td>\n",
       "      <td>MULTIPOLYGON (((288514.818 7557351.170, 287973...</td>\n",
       "    </tr>\n",
       "    <tr>\n",
       "      <th>2</th>\n",
       "      <td>2000</td>\n",
       "      <td>PUT0176</td>\n",
       "      <td>2000-01-19 00:00:00</td>\n",
       "      <td>OTRAS_COBERTURAS</td>\n",
       "      <td>54.0</td>\n",
       "      <td>45.0</td>\n",
       "      <td>POLYGON ((284716.252 7557780.159, 284852.744 7...</td>\n",
       "    </tr>\n",
       "    <tr>\n",
       "      <th>3</th>\n",
       "      <td>2000</td>\n",
       "      <td>PUT0176</td>\n",
       "      <td>2000-01-19 00:00:00</td>\n",
       "      <td>BOSQUES</td>\n",
       "      <td>1781.0</td>\n",
       "      <td>1200.0</td>\n",
       "      <td>POLYGON ((284611.274 7558299.026, 284608.955 7...</td>\n",
       "    </tr>\n",
       "    <tr>\n",
       "      <th>4</th>\n",
       "      <td>2000</td>\n",
       "      <td>PUT0511</td>\n",
       "      <td>2000-02-01 00:00:00</td>\n",
       "      <td>BOSQUES</td>\n",
       "      <td>70.0</td>\n",
       "      <td>70.0</td>\n",
       "      <td>POLYGON ((156279.122 7584595.904, 156277.771 7...</td>\n",
       "    </tr>\n",
       "    <tr>\n",
       "      <th>...</th>\n",
       "      <td>...</td>\n",
       "      <td>...</td>\n",
       "      <td>...</td>\n",
       "      <td>...</td>\n",
       "      <td>...</td>\n",
       "      <td>...</td>\n",
       "      <td>...</td>\n",
       "    </tr>\n",
       "    <tr>\n",
       "      <th>62352</th>\n",
       "      <td>2008</td>\n",
       "      <td>PUT1629</td>\n",
       "      <td>2008-07-29</td>\n",
       "      <td>unclassified</td>\n",
       "      <td>82080.0</td>\n",
       "      <td>7848.0</td>\n",
       "      <td>MULTIPOLYGON (((389959.015 7613998.761, 389988...</td>\n",
       "    </tr>\n",
       "    <tr>\n",
       "      <th>62353</th>\n",
       "      <td>2011</td>\n",
       "      <td>PUT2054</td>\n",
       "      <td>2011-02-09</td>\n",
       "      <td>unclassified</td>\n",
       "      <td>36205.0</td>\n",
       "      <td>332.0</td>\n",
       "      <td>POLYGON ((360283.961 7691927.987, 360300.250 7...</td>\n",
       "    </tr>\n",
       "    <tr>\n",
       "      <th>62354</th>\n",
       "      <td>2000</td>\n",
       "      <td>PUT3427</td>\n",
       "      <td>2000-09-18</td>\n",
       "      <td>unclassified</td>\n",
       "      <td>7080.0</td>\n",
       "      <td>4509.0</td>\n",
       "      <td>POLYGON ((204999.418 7429921.748, 202510.756 7...</td>\n",
       "    </tr>\n",
       "    <tr>\n",
       "      <th>62355</th>\n",
       "      <td>2008</td>\n",
       "      <td>PUT1359</td>\n",
       "      <td>2008-12-10</td>\n",
       "      <td>unclassified</td>\n",
       "      <td>24063.0</td>\n",
       "      <td>295.0</td>\n",
       "      <td>POLYGON ((218754.674 7368873.500, 218742.786 7...</td>\n",
       "    </tr>\n",
       "    <tr>\n",
       "      <th>62356</th>\n",
       "      <td>2009</td>\n",
       "      <td>PUT1757</td>\n",
       "      <td>2009-08-04</td>\n",
       "      <td>unclassified</td>\n",
       "      <td>41226.0</td>\n",
       "      <td>4626.0</td>\n",
       "      <td>MULTIPOLYGON (((341035.512 7678337.503, 341034...</td>\n",
       "    </tr>\n",
       "  </tbody>\n",
       "</table>\n",
       "<p>62357 rows × 7 columns</p>\n",
       "</div>"
      ],
      "text/plain": [
       "      anho_capa   put_id            fecha_res             grupo   _count  \\\n",
       "0          2000  PUT0176  2000-01-19 00:00:00           BOSQUES    869.0   \n",
       "1          2000  PUT0176  2000-01-19 00:00:00   AREA_AUTORIZADA   3212.0   \n",
       "2          2000  PUT0176  2000-01-19 00:00:00  OTRAS_COBERTURAS     54.0   \n",
       "3          2000  PUT0176  2000-01-19 00:00:00           BOSQUES   1781.0   \n",
       "4          2000  PUT0511  2000-02-01 00:00:00           BOSQUES     70.0   \n",
       "...         ...      ...                  ...               ...      ...   \n",
       "62352      2008  PUT1629           2008-07-29      unclassified  82080.0   \n",
       "62353      2011  PUT2054           2011-02-09      unclassified  36205.0   \n",
       "62354      2000  PUT3427           2000-09-18      unclassified   7080.0   \n",
       "62355      2008  PUT1359           2008-12-10      unclassified  24063.0   \n",
       "62356      2009  PUT1757           2009-08-04      unclassified  41226.0   \n",
       "\n",
       "         _sum                                           geometry  \n",
       "0       285.0  MULTIPOLYGON (((288618.472 7557270.352, 284617...  \n",
       "1      1585.0  MULTIPOLYGON (((288514.818 7557351.170, 287973...  \n",
       "2        45.0  POLYGON ((284716.252 7557780.159, 284852.744 7...  \n",
       "3      1200.0  POLYGON ((284611.274 7558299.026, 284608.955 7...  \n",
       "4        70.0  POLYGON ((156279.122 7584595.904, 156277.771 7...  \n",
       "...       ...                                                ...  \n",
       "62352  7848.0  MULTIPOLYGON (((389959.015 7613998.761, 389988...  \n",
       "62353   332.0  POLYGON ((360283.961 7691927.987, 360300.250 7...  \n",
       "62354  4509.0  POLYGON ((204999.418 7429921.748, 202510.756 7...  \n",
       "62355   295.0  POLYGON ((218754.674 7368873.500, 218742.786 7...  \n",
       "62356  4626.0  MULTIPOLYGON (((341035.512 7678337.503, 341034...  \n",
       "\n",
       "[62357 rows x 7 columns]"
      ]
     },
     "execution_count": 2,
     "metadata": {},
     "output_type": "execute_result"
    }
   ],
   "source": [
    "data"
   ]
  },
  {
   "cell_type": "code",
   "execution_count": 3,
   "metadata": {},
   "outputs": [
    {
     "data": {
      "text/plain": [
       "24674036.13456888"
      ]
     },
     "execution_count": 3,
     "metadata": {},
     "output_type": "execute_result"
    }
   ],
   "source": [
    "data['_sum'].sum()"
   ]
  },
  {
   "cell_type": "code",
   "execution_count": 4,
   "metadata": {},
   "outputs": [
    {
     "name": "stdout",
     "output_type": "stream",
     "text": [
      "grupo\n",
      "AREA_AUTORIZADA             2.736061e+07\n",
      "BOSQUES                     3.159996e+07\n",
      "EN_CONFLICTO                3.160000e+02\n",
      "OTRAS_COBERTURAS            7.280079e+06\n",
      "OTRAS_TIERRAS_FORESTALES    1.808511e+06\n",
      "unclassified                1.634524e+07\n",
      "Name: _count, dtype: float64\n"
     ]
    }
   ],
   "source": [
    "\n",
    "# Print the result\n",
    "print(sum_by_grupo)\n"
   ]
  },
  {
   "cell_type": "code",
   "execution_count": 5,
   "metadata": {},
   "outputs": [
    {
     "data": {
      "text/plain": [
       "84394715.1157445"
      ]
     },
     "execution_count": 5,
     "metadata": {},
     "output_type": "execute_result"
    }
   ],
   "source": [
    "data['_count'].sum()"
   ]
  },
  {
   "cell_type": "code",
   "execution_count": 6,
   "metadata": {},
   "outputs": [
    {
     "data": {
      "text/html": [
       "<div>\n",
       "<style scoped>\n",
       "    .dataframe tbody tr th:only-of-type {\n",
       "        vertical-align: middle;\n",
       "    }\n",
       "\n",
       "    .dataframe tbody tr th {\n",
       "        vertical-align: top;\n",
       "    }\n",
       "\n",
       "    .dataframe thead th {\n",
       "        text-align: right;\n",
       "    }\n",
       "</style>\n",
       "<table border=\"1\" class=\"dataframe\">\n",
       "  <thead>\n",
       "    <tr style=\"text-align: right;\">\n",
       "      <th></th>\n",
       "      <th>wkt_geom</th>\n",
       "      <th>zone</th>\n",
       "      <th>deg2</th>\n",
       "      <th>sum</th>\n",
       "      <th>count</th>\n",
       "      <th>min</th>\n",
       "      <th>max</th>\n",
       "      <th>mean</th>\n",
       "    </tr>\n",
       "  </thead>\n",
       "  <tbody>\n",
       "    <tr>\n",
       "      <th>0</th>\n",
       "      <td>NULL</td>\n",
       "      <td>1</td>\n",
       "      <td>1.987252</td>\n",
       "      <td>12953184</td>\n",
       "      <td>27362315</td>\n",
       "      <td>0</td>\n",
       "      <td>1</td>\n",
       "      <td>0.473395</td>\n",
       "    </tr>\n",
       "    <tr>\n",
       "      <th>1</th>\n",
       "      <td>NULL</td>\n",
       "      <td>2</td>\n",
       "      <td>2.291914</td>\n",
       "      <td>6545872</td>\n",
       "      <td>31557190</td>\n",
       "      <td>0</td>\n",
       "      <td>1</td>\n",
       "      <td>0.207429</td>\n",
       "    </tr>\n",
       "    <tr>\n",
       "      <th>2</th>\n",
       "      <td>NULL</td>\n",
       "      <td>3</td>\n",
       "      <td>0.000023</td>\n",
       "      <td>58</td>\n",
       "      <td>317</td>\n",
       "      <td>0</td>\n",
       "      <td>1</td>\n",
       "      <td>0.182965</td>\n",
       "    </tr>\n",
       "    <tr>\n",
       "      <th>3</th>\n",
       "      <td>NULL</td>\n",
       "      <td>4</td>\n",
       "      <td>0.528318</td>\n",
       "      <td>967965</td>\n",
       "      <td>7274371</td>\n",
       "      <td>0</td>\n",
       "      <td>1</td>\n",
       "      <td>0.133065</td>\n",
       "    </tr>\n",
       "    <tr>\n",
       "      <th>4</th>\n",
       "      <td>NULL</td>\n",
       "      <td>5</td>\n",
       "      <td>0.131215</td>\n",
       "      <td>90708</td>\n",
       "      <td>1806691</td>\n",
       "      <td>0</td>\n",
       "      <td>1</td>\n",
       "      <td>0.050207</td>\n",
       "    </tr>\n",
       "    <tr>\n",
       "      <th>5</th>\n",
       "      <td>NULL</td>\n",
       "      <td>6</td>\n",
       "      <td>1.184481</td>\n",
       "      <td>4098488</td>\n",
       "      <td>16309023</td>\n",
       "      <td>0</td>\n",
       "      <td>1</td>\n",
       "      <td>0.251302</td>\n",
       "    </tr>\n",
       "  </tbody>\n",
       "</table>\n",
       "</div>"
      ],
      "text/plain": [
       "  wkt_geom  zone      deg2       sum     count  min  max      mean\n",
       "0     NULL     1  1.987252  12953184  27362315    0    1  0.473395\n",
       "1     NULL     2  2.291914   6545872  31557190    0    1  0.207429\n",
       "2     NULL     3  0.000023        58       317    0    1  0.182965\n",
       "3     NULL     4  0.528318    967965   7274371    0    1  0.133065\n",
       "4     NULL     5  0.131215     90708   1806691    0    1  0.050207\n",
       "5     NULL     6  1.184481   4098488  16309023    0    1  0.251302"
      ]
     },
     "execution_count": 6,
     "metadata": {},
     "output_type": "execute_result"
    }
   ],
   "source": [
    "\n",
    "data = {\n",
    "    'wkt_geom': ['NULL', 'NULL', 'NULL', 'NULL', 'NULL', 'NULL'],\n",
    "    'zone': [1, 2, 3, 4, 5, 6],\n",
    "    'deg2': [1.9872519213311282, 2.2919144984374116, 2.302286407644849e-05, 0.5283181538632765, 0.13121514612347884, 1.1844808193964422],\n",
    "    'sum': [12953184, 6545872, 58, 967965, 90708, 4098488],\n",
    "    'count': [27362315, 31557190, 317, 7274371, 1806691, 16309023],\n",
    "    'min': [0, 0, 0, 0, 0, 0],\n",
    "    'max': [1, 1, 1, 1, 1, 1],\n",
    "    'mean': [0.4733950325475019, 0.20742886169522698, 0.1829652996845426, 0.1330651131211207, 0.050206703858047666, 0.2513018713628646]\n",
    "}\n",
    "\n",
    "df = pd.DataFrame(data)\n",
    "df\n"
   ]
  },
  {
   "cell_type": "code",
   "execution_count": 7,
   "metadata": {},
   "outputs": [
    {
     "data": {
      "text/plain": [
       "24656275"
      ]
     },
     "execution_count": 7,
     "metadata": {},
     "output_type": "execute_result"
    }
   ],
   "source": [
    "df['sum'].sum()"
   ]
  },
  {
   "cell_type": "code",
   "execution_count": 8,
   "metadata": {},
   "outputs": [
    {
     "data": {
      "text/plain": [
       "84309907"
      ]
     },
     "execution_count": 8,
     "metadata": {},
     "output_type": "execute_result"
    }
   ],
   "source": [
    "df['count'].sum()"
   ]
  },
  {
   "cell_type": "code",
   "execution_count": 9,
   "metadata": {},
   "outputs": [
    {
     "data": {
      "text/plain": [
       "108966182"
      ]
     },
     "execution_count": 9,
     "metadata": {},
     "output_type": "execute_result"
    }
   ],
   "source": [
    "84309907 + 24656275 \n"
   ]
  },
  {
   "cell_type": "code",
   "execution_count": 10,
   "metadata": {},
   "outputs": [
    {
     "data": {
      "text/plain": [
       "59653632"
      ]
     },
     "execution_count": 10,
     "metadata": {},
     "output_type": "execute_result"
    }
   ],
   "source": [
    "#count - sum = total # of zeros and ones - total # of ones = total of # of zeros\n",
    "84309907 - 24656275 \n"
   ]
  },
  {
   "cell_type": "code",
   "execution_count": 15,
   "metadata": {},
   "outputs": [
    {
     "data": {
      "text/html": [
       "<div>\n",
       "<style scoped>\n",
       "    .dataframe tbody tr th:only-of-type {\n",
       "        vertical-align: middle;\n",
       "    }\n",
       "\n",
       "    .dataframe tbody tr th {\n",
       "        vertical-align: top;\n",
       "    }\n",
       "\n",
       "    .dataframe thead th {\n",
       "        text-align: right;\n",
       "    }\n",
       "</style>\n",
       "<table border=\"1\" class=\"dataframe\">\n",
       "  <thead>\n",
       "    <tr style=\"text-align: right;\">\n",
       "      <th></th>\n",
       "      <th>wkt_geom</th>\n",
       "      <th>zone</th>\n",
       "      <th>deg2</th>\n",
       "      <th>sum</th>\n",
       "      <th>count</th>\n",
       "      <th>min</th>\n",
       "      <th>max</th>\n",
       "      <th>mean</th>\n",
       "      <th>total_area</th>\n",
       "      <th>deforested_area</th>\n",
       "      <th>grupo</th>\n",
       "    </tr>\n",
       "  </thead>\n",
       "  <tbody>\n",
       "    <tr>\n",
       "      <th>0</th>\n",
       "      <td>NULL</td>\n",
       "      <td>1</td>\n",
       "      <td>1.987252</td>\n",
       "      <td>12953184</td>\n",
       "      <td>27362315</td>\n",
       "      <td>0</td>\n",
       "      <td>1</td>\n",
       "      <td>0.473395</td>\n",
       "      <td>2462608.35</td>\n",
       "      <td>1165786.56</td>\n",
       "      <td>area_autorizada</td>\n",
       "    </tr>\n",
       "    <tr>\n",
       "      <th>1</th>\n",
       "      <td>NULL</td>\n",
       "      <td>2</td>\n",
       "      <td>2.291914</td>\n",
       "      <td>6545872</td>\n",
       "      <td>31557190</td>\n",
       "      <td>0</td>\n",
       "      <td>1</td>\n",
       "      <td>0.207429</td>\n",
       "      <td>2840147.10</td>\n",
       "      <td>589128.48</td>\n",
       "      <td>bosques</td>\n",
       "    </tr>\n",
       "    <tr>\n",
       "      <th>2</th>\n",
       "      <td>NULL</td>\n",
       "      <td>3</td>\n",
       "      <td>0.000023</td>\n",
       "      <td>58</td>\n",
       "      <td>317</td>\n",
       "      <td>0</td>\n",
       "      <td>1</td>\n",
       "      <td>0.182965</td>\n",
       "      <td>28.53</td>\n",
       "      <td>5.22</td>\n",
       "      <td>en_conflicto</td>\n",
       "    </tr>\n",
       "    <tr>\n",
       "      <th>3</th>\n",
       "      <td>NULL</td>\n",
       "      <td>4</td>\n",
       "      <td>0.528318</td>\n",
       "      <td>967965</td>\n",
       "      <td>7274371</td>\n",
       "      <td>0</td>\n",
       "      <td>1</td>\n",
       "      <td>0.133065</td>\n",
       "      <td>654693.39</td>\n",
       "      <td>87116.85</td>\n",
       "      <td>otras_coberturas</td>\n",
       "    </tr>\n",
       "    <tr>\n",
       "      <th>4</th>\n",
       "      <td>NULL</td>\n",
       "      <td>5</td>\n",
       "      <td>0.131215</td>\n",
       "      <td>90708</td>\n",
       "      <td>1806691</td>\n",
       "      <td>0</td>\n",
       "      <td>1</td>\n",
       "      <td>0.050207</td>\n",
       "      <td>162602.19</td>\n",
       "      <td>8163.72</td>\n",
       "      <td>otras_tierras_forestales</td>\n",
       "    </tr>\n",
       "    <tr>\n",
       "      <th>5</th>\n",
       "      <td>NULL</td>\n",
       "      <td>6</td>\n",
       "      <td>1.184481</td>\n",
       "      <td>4098488</td>\n",
       "      <td>16309023</td>\n",
       "      <td>0</td>\n",
       "      <td>1</td>\n",
       "      <td>0.251302</td>\n",
       "      <td>1467812.07</td>\n",
       "      <td>368863.92</td>\n",
       "      <td>unclassified</td>\n",
       "    </tr>\n",
       "  </tbody>\n",
       "</table>\n",
       "</div>"
      ],
      "text/plain": [
       "  wkt_geom  zone      deg2       sum     count  min  max      mean  \\\n",
       "0     NULL     1  1.987252  12953184  27362315    0    1  0.473395   \n",
       "1     NULL     2  2.291914   6545872  31557190    0    1  0.207429   \n",
       "2     NULL     3  0.000023        58       317    0    1  0.182965   \n",
       "3     NULL     4  0.528318    967965   7274371    0    1  0.133065   \n",
       "4     NULL     5  0.131215     90708   1806691    0    1  0.050207   \n",
       "5     NULL     6  1.184481   4098488  16309023    0    1  0.251302   \n",
       "\n",
       "   total_area  deforested_area                     grupo  \n",
       "0  2462608.35       1165786.56           area_autorizada  \n",
       "1  2840147.10        589128.48                   bosques  \n",
       "2       28.53             5.22              en_conflicto  \n",
       "3   654693.39         87116.85          otras_coberturas  \n",
       "4   162602.19          8163.72  otras_tierras_forestales  \n",
       "5  1467812.07        368863.92              unclassified  "
      ]
     },
     "execution_count": 15,
     "metadata": {},
     "output_type": "execute_result"
    }
   ],
   "source": [
    "# converstion of cells from 30msq to hectares\n",
    "df['total_area'] = df['count'] * 0.09\n",
    "\n",
    "# Calculate the percentage sum is of the difference\n",
    "df['deforested_area'] = df['sum'] * 0.09\n",
    "\n",
    "df['grupo'] = ['area_autorizada', 'bosques', 'en_conflicto', 'otras_coberturas', 'otras_tierras_forestales', 'unclassified']\n",
    "df"
   ]
  },
  {
   "cell_type": "code",
   "execution_count": 17,
   "metadata": {},
   "outputs": [
    {
     "data": {
      "text/plain": [
       "29.24481727802658"
      ]
     },
     "execution_count": 17,
     "metadata": {},
     "output_type": "execute_result"
    }
   ],
   "source": [
    "(2219064.75 / 7587890.63) * 100"
   ]
  }
 ],
 "metadata": {
  "kernelspec": {
   "display_name": "policy",
   "language": "python",
   "name": "policy"
  },
  "language_info": {
   "codemirror_mode": {
    "name": "ipython",
    "version": 3
   },
   "file_extension": ".py",
   "mimetype": "text/x-python",
   "name": "python",
   "nbconvert_exporter": "python",
   "pygments_lexer": "ipython3",
   "version": "3.11.5"
  }
 },
 "nbformat": 4,
 "nbformat_minor": 2
}
